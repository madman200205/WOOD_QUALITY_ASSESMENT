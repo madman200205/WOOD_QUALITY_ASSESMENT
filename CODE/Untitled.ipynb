{
 "cells": [
  {
   "cell_type": "code",
   "execution_count": 1,
   "id": "865e48ce",
   "metadata": {},
   "outputs": [],
   "source": [
    "import pandas as pd\n",
    "df1 = pd.read_excel('Indian Teak-IT.xlsx',header=None)"
   ]
  },
  {
   "cell_type": "code",
   "execution_count": 2,
   "id": "29092df3",
   "metadata": {},
   "outputs": [],
   "source": [
    "df2 = pd.read_excel('Ghana Teak-GT.xlsx',header=None)"
   ]
  },
  {
   "cell_type": "code",
   "execution_count": 3,
   "id": "fce1fb4e",
   "metadata": {},
   "outputs": [],
   "source": [
    "df3 = pd.read_excel('A&N Teak-AT.xlsx',header=None)"
   ]
  },
  {
   "cell_type": "code",
   "execution_count": 4,
   "id": "165b7928",
   "metadata": {},
   "outputs": [],
   "source": [
    "df4 = pd.read_excel('Burma Teak-BT.xlsx',header=None)\n"
   ]
  },
  {
   "cell_type": "code",
   "execution_count": 5,
   "id": "f5c2488c",
   "metadata": {},
   "outputs": [
    {
     "name": "stdout",
     "output_type": "stream",
     "text": [
      "1666\n",
      "1517\n",
      "1417\n",
      "1676\n"
     ]
    }
   ],
   "source": [
    "# df1 = df1.drop([0], axis=0)\n",
    "# print(df1.head(5))\n",
    "print(len(df1))\n",
    "print(len(df2))\n",
    "print(len(df3))\n",
    "print(len(df4))"
   ]
  },
  {
   "cell_type": "code",
   "execution_count": 6,
   "id": "2d32b657",
   "metadata": {},
   "outputs": [
    {
     "name": "stdout",
     "output_type": "stream",
     "text": [
      "  0         1         2         3         4         5         6         7     \\\n",
      "1   IT  0.048594  0.048560  0.048819  0.048955  0.048694  0.048223  0.047939   \n",
      "2   IT  0.048594  0.048560  0.048819  0.048955  0.048694  0.048223  0.047939   \n",
      "3   IT  0.049449  0.049339  0.049355  0.049419  0.049286  0.048891  0.048538   \n",
      "4   IT  0.048371  0.048442  0.048895  0.048948  0.048490  0.048258  0.048453   \n",
      "5   IT  0.061935  0.061450  0.061121  0.060912  0.060783  0.060752  0.060740   \n",
      "\n",
      "       8         9     ...      1547      1548      1549      1550      1551  \\\n",
      "1  0.047963  0.047947  ...  0.570621  0.574084  0.577093  0.579849  0.582168   \n",
      "2  0.047963  0.047947  ...  0.570621  0.574084  0.577093  0.579849  0.582168   \n",
      "3  0.048416  0.048227  ...  0.571415  0.575011  0.577947  0.580516  0.582795   \n",
      "4  0.048472  0.048070  ...  0.572078  0.575684  0.578764  0.581424  0.583664   \n",
      "5  0.060832  0.060685  ...  0.537189  0.540418  0.543282  0.545837  0.547958   \n",
      "\n",
      "       1552      1553      1554      1555      1556  \n",
      "1  0.583933  0.585143  0.585671  0.585665  0.585435  \n",
      "2  0.583933  0.585143  0.585671  0.585665  0.585435  \n",
      "3  0.584568  0.585672  0.586161  0.586259  0.586024  \n",
      "4  0.585461  0.586727  0.587344  0.587383  0.586971  \n",
      "5  0.549572  0.550692  0.551374  0.551559  0.551202  \n",
      "\n",
      "[5 rows x 1557 columns]\n"
     ]
    }
   ],
   "source": [
    "df1=df1.drop([0], axis=0)\n",
    "print(df1.head(5))\n"
   ]
  },
  {
   "cell_type": "code",
   "execution_count": 7,
   "id": "3cdd4dc8",
   "metadata": {},
   "outputs": [
    {
     "name": "stdout",
     "output_type": "stream",
     "text": [
      "  0         1         2         3         4         5         6         7     \\\n",
      "1   GT  0.075104  0.074747  0.074468  0.074422  0.074494  0.074639  0.074805   \n",
      "2   GT  0.051675  0.051546  0.051628  0.051716  0.051682  0.051891  0.052389   \n",
      "3   GT  0.052926  0.053027  0.053177  0.053055  0.052530  0.052091  0.052008   \n",
      "4   GT  0.080625  0.080762  0.080972  0.080857  0.080682  0.080978  0.081476   \n",
      "5   GT  0.082568  0.082976  0.083180  0.083064  0.082924  0.083015  0.082997   \n",
      "\n",
      "       8         9     ...      1547      1548      1549      1550      1551  \\\n",
      "1  0.074445  0.073428  ...  0.500881  0.504213  0.507321  0.509921  0.511971   \n",
      "2  0.052446  0.051814  ...  0.484292  0.487484  0.490234  0.492612  0.494551   \n",
      "3  0.051900  0.051608  ...  0.484283  0.487378  0.490096  0.492493  0.494477   \n",
      "4  0.081371  0.080613  ...  0.591993  0.595356  0.598372  0.601045  0.603275   \n",
      "5  0.082675  0.082292  ...  0.593943  0.597244  0.600184  0.602872  0.605221   \n",
      "\n",
      "       1552      1553      1554      1555      1556  \n",
      "1  0.513414  0.514178  0.514452  0.514509  0.514272  \n",
      "2  0.496001  0.496913  0.497200  0.497068  0.496813  \n",
      "3  0.496038  0.497129  0.497505  0.497254  0.496803  \n",
      "4  0.604986  0.606215  0.607015  0.607395  0.607309  \n",
      "5  0.606999  0.608223  0.609005  0.609284  0.609081  \n",
      "\n",
      "[5 rows x 1557 columns]\n"
     ]
    }
   ],
   "source": [
    "df2 = df2.drop([0], axis=0)\n",
    "print(df2.head(5))\n"
   ]
  },
  {
   "cell_type": "code",
   "execution_count": 8,
   "id": "6e2f48d4",
   "metadata": {},
   "outputs": [
    {
     "name": "stdout",
     "output_type": "stream",
     "text": [
      "  0         1         2         3         4         5         6         7     \\\n",
      "1   AT  0.207614  0.206539  0.206811  0.207818  0.207987  0.207426  0.206875   \n",
      "2   AT  0.207381  0.206870  0.206347  0.206066  0.206156  0.206293  0.205982   \n",
      "3   AT  0.207389  0.206788  0.206435  0.206472  0.206637  0.206792  0.206811   \n",
      "4   AT  0.218944  0.218141  0.217624  0.217735  0.218463  0.218849  0.218097   \n",
      "5   AT  0.218910  0.218551  0.218694  0.218823  0.218495  0.218073  0.217740   \n",
      "\n",
      "       8         9     ...      1547      1548      1549      1550      1551  \\\n",
      "1  0.206390  0.206136  ...  0.649185  0.652596  0.656251  0.659622  0.662431   \n",
      "2  0.205349  0.205106  ...  0.649582  0.653149  0.657056  0.660640  0.663409   \n",
      "3  0.206589  0.206606  ...  0.650214  0.653949  0.657781  0.661085  0.663695   \n",
      "4  0.216797  0.215969  ...  0.638709  0.642262  0.645967  0.649192  0.651805   \n",
      "5  0.217201  0.216725  ...  0.639367  0.642551  0.645952  0.649148  0.651887   \n",
      "\n",
      "       1552      1553      1554      1555      1556  \n",
      "1  0.664703  0.666428  0.667456  0.667634  0.667063  \n",
      "2  0.665340  0.666706  0.667708  0.668168  0.667797  \n",
      "3  0.665595  0.666896  0.667765  0.668106  0.667748  \n",
      "4  0.653820  0.655207  0.656108  0.656400  0.655865  \n",
      "5  0.654046  0.655506  0.656480  0.656915  0.656402  \n",
      "\n",
      "[5 rows x 1557 columns]\n"
     ]
    }
   ],
   "source": [
    "df3 = df3.drop([0], axis=0)\n",
    "print(df3.head(5))"
   ]
  },
  {
   "cell_type": "code",
   "execution_count": 9,
   "id": "29347050",
   "metadata": {},
   "outputs": [
    {
     "name": "stdout",
     "output_type": "stream",
     "text": [
      "     0         1         2         3         4         5         6     \\\n",
      "1671   BT  0.190796  0.190046  0.189282  0.188839  0.188398  0.188382   \n",
      "1672   BT  0.204263  0.203979  0.203816  0.203367  0.202674  0.202419   \n",
      "1673   BT  0.085567  0.085279  0.085302  0.085475  0.085598  0.085337   \n",
      "1674   BT  0.082693  0.082596  0.082363  0.082156  0.082064  0.081929   \n",
      "1675   BT  0.087085  0.086803  0.086579  0.086467  0.086342  0.086148   \n",
      "\n",
      "          7         8         9     ...      1547      1548      1549  \\\n",
      "1671  0.189148  0.189616  0.188976  ...  0.598365  0.601693  0.605377   \n",
      "1672  0.202854  0.203128  0.202729  ...  0.609842  0.613156  0.617016   \n",
      "1673  0.084738  0.084329  0.084262  ...  0.570010  0.573384  0.576506   \n",
      "1674  0.081736  0.081539  0.081303  ...  0.580160  0.583544  0.586783   \n",
      "1675  0.085997  0.085851  0.085678  ...  0.567764  0.571141  0.574410   \n",
      "\n",
      "          1550      1551      1552      1553      1554      1555      1556  \n",
      "1671  0.608842  0.611861  0.614087  0.615579  0.616684  0.616919  0.615899  \n",
      "1672  0.620664  0.623701  0.625864  0.627263  0.628283  0.628629  0.627972  \n",
      "1673  0.579382  0.581914  0.583894  0.585252  0.586125  0.586589  0.586568  \n",
      "1674  0.589706  0.592197  0.594165  0.595588  0.596574  0.597144  0.597139  \n",
      "1675  0.577451  0.580037  0.581988  0.583337  0.584276  0.584802  0.584718  \n",
      "\n",
      "[5 rows x 1557 columns]\n"
     ]
    }
   ],
   "source": [
    "df4 = df4.drop([0], axis=0)\n",
    "print(df4.tail(5))"
   ]
  },
  {
   "cell_type": "code",
   "execution_count": 10,
   "id": "268c5376",
   "metadata": {},
   "outputs": [],
   "source": [
    "import numpy as np\n",
    "dataset = np.vstack((df1, df2,df3,df4))"
   ]
  },
  {
   "cell_type": "code",
   "execution_count": 11,
   "id": "fe28dc5b",
   "metadata": {},
   "outputs": [
    {
     "name": "stdout",
     "output_type": "stream",
     "text": [
      "[['IT' 0.0485943 0.04855959 ... 0.585671 0.5856652 0.585435]\n",
      " ['IT' 0.0485943 0.04855959 ... 0.585671 0.5856652 0.585435]\n",
      " ['IT' 0.04944945 0.04933897 ... 0.5861606 0.5862594 0.5860242]\n",
      " ...\n",
      " ['BT' 0.08556721 0.08527928 ... 0.586125 0.5865895 0.5865678]\n",
      " ['BT' 0.08269253 0.08259604 ... 0.5965742 0.5971436 0.5971386]\n",
      " ['BT' 0.08708519 0.08680258 ... 0.5842763 0.5848017 0.5847179]]\n"
     ]
    }
   ],
   "source": [
    "print(dataset)"
   ]
  },
  {
   "cell_type": "code",
   "execution_count": 12,
   "id": "f7b47af2",
   "metadata": {},
   "outputs": [],
   "source": [
    "y = dataset[:,0]"
   ]
  },
  {
   "cell_type": "code",
   "execution_count": 13,
   "id": "bf2409c1",
   "metadata": {},
   "outputs": [
    {
     "name": "stdout",
     "output_type": "stream",
     "text": [
      "count     6272\n",
      "unique       4\n",
      "top         BT\n",
      "freq      1675\n",
      "dtype: object\n"
     ]
    }
   ],
   "source": [
    "print(pd.Series(y).describe())"
   ]
  },
  {
   "cell_type": "code",
   "execution_count": 14,
   "id": "e04a5f12",
   "metadata": {},
   "outputs": [
    {
     "name": "stdout",
     "output_type": "stream",
     "text": [
      "['IT' 'GT' 'AT' 'BT']\n"
     ]
    }
   ],
   "source": [
    "data_labels = pd.Series(y).unique()\n",
    "print(data_labels)\n"
   ]
  },
  {
   "cell_type": "code",
   "execution_count": 15,
   "id": "8cf7085f",
   "metadata": {},
   "outputs": [],
   "source": [
    "data_labels = ['IT', 'GT', 'AT' ,'BT']"
   ]
  },
  {
   "cell_type": "code",
   "execution_count": 16,
   "id": "3e08a4d1",
   "metadata": {},
   "outputs": [],
   "source": [
    "dataset_to_save = pd.DataFrame(dataset)"
   ]
  },
  {
   "cell_type": "code",
   "execution_count": 17,
   "id": "206b1e76",
   "metadata": {},
   "outputs": [],
   "source": [
    "dataset_to_save.to_csv('final_dataset.csv', index=False)"
   ]
  },
  {
   "cell_type": "code",
   "execution_count": 18,
   "id": "2e4e8ff4",
   "metadata": {
    "scrolled": true
   },
   "outputs": [],
   "source": [
    "import pandas as pd\n",
    "df = pd.read_csv(\"final_dataset.csv\",header=None)\n",
    "df = df.drop([0], axis=0)\n",
    "# print(df)\n",
    "x = df.iloc[:,1:]\n",
    "# print(x)\n",
    "y = df.iloc[:,0]\n",
    "# print(y)\n",
    "\n"
   ]
  },
  {
   "cell_type": "markdown",
   "id": "d92ea8eb",
   "metadata": {},
   "source": [
    "The final dataset has 6272 rows and 1557 columns"
   ]
  },
  {
   "cell_type": "code",
   "execution_count": 19,
   "id": "2e99e528",
   "metadata": {},
   "outputs": [
    {
     "name": "stdout",
     "output_type": "stream",
     "text": [
      "1665\n"
     ]
    }
   ],
   "source": [
    "print(sum(y=='IT'))"
   ]
  },
  {
   "cell_type": "code",
   "execution_count": 20,
   "id": "7253ce99",
   "metadata": {},
   "outputs": [
    {
     "name": "stdout",
     "output_type": "stream",
     "text": [
      "IT  :  1665\n",
      "GT  :  1516\n",
      "AT  :  1416\n",
      "BT  :  1675\n",
      "          1         2         3         4         5         6         7     \\\n",
      "1     0.048594  0.048560  0.048819  0.048955  0.048694  0.048223  0.047939   \n",
      "2     0.048594  0.048560  0.048819  0.048955  0.048694  0.048223  0.047939   \n",
      "3     0.049449  0.049339  0.049355  0.049419  0.049286  0.048891  0.048538   \n",
      "4     0.048371  0.048442  0.048895  0.048948  0.048490  0.048258  0.048453   \n",
      "5     0.061935  0.061450  0.061121  0.060912  0.060783  0.060752  0.060740   \n",
      "...        ...       ...       ...       ...       ...       ...       ...   \n",
      "6268  0.190796  0.190046  0.189282  0.188839  0.188398  0.188382  0.189148   \n",
      "6269  0.204263  0.203979  0.203816  0.203367  0.202674  0.202419  0.202854   \n",
      "6270  0.085567  0.085279  0.085302  0.085475  0.085598  0.085337  0.084738   \n",
      "6271  0.082693  0.082596  0.082363  0.082156  0.082064  0.081929  0.081736   \n",
      "6272  0.087085  0.086803  0.086579  0.086467  0.086342  0.086148  0.085997   \n",
      "\n",
      "          8         9         10    ...      1547      1548      1549  \\\n",
      "1     0.047963  0.047947  0.047728  ...  0.570621  0.574084  0.577093   \n",
      "2     0.047963  0.047947  0.047728  ...  0.570621  0.574084  0.577093   \n",
      "3     0.048416  0.048227  0.047927  ...  0.571415  0.575011  0.577947   \n",
      "4     0.048472  0.048070  0.047622  ...  0.572078  0.575684  0.578764   \n",
      "5     0.060832  0.060685  0.060082  ...  0.537189  0.540418  0.543282   \n",
      "...        ...       ...       ...  ...       ...       ...       ...   \n",
      "6268  0.189616  0.188976  0.188103  ...  0.598365  0.601693  0.605377   \n",
      "6269  0.203128  0.202729  0.202244  ...  0.609842  0.613156  0.617016   \n",
      "6270  0.084329  0.084262  0.084211  ...  0.570010  0.573384  0.576506   \n",
      "6271  0.081539  0.081303  0.081043  ...  0.580160  0.583544  0.586783   \n",
      "6272  0.085851  0.085678  0.085468  ...  0.567764  0.571141  0.574410   \n",
      "\n",
      "          1550      1551      1552      1553      1554      1555      1556  \n",
      "1     0.579849  0.582168  0.583933  0.585143  0.585671  0.585665  0.585435  \n",
      "2     0.579849  0.582168  0.583933  0.585143  0.585671  0.585665  0.585435  \n",
      "3     0.580516  0.582795  0.584568  0.585672  0.586161  0.586259  0.586024  \n",
      "4     0.581424  0.583664  0.585461  0.586727  0.587344  0.587383  0.586971  \n",
      "5     0.545837  0.547958  0.549572  0.550692  0.551374  0.551559  0.551202  \n",
      "...        ...       ...       ...       ...       ...       ...       ...  \n",
      "6268  0.608842  0.611861  0.614087  0.615579  0.616684  0.616919  0.615899  \n",
      "6269  0.620664  0.623701  0.625864  0.627263  0.628283  0.628629  0.627972  \n",
      "6270  0.579382  0.581914  0.583894  0.585252  0.586125  0.586589  0.586568  \n",
      "6271  0.589706  0.592197  0.594165  0.595588  0.596574  0.597144  0.597139  \n",
      "6272  0.577451  0.580037  0.581988  0.583337  0.584276  0.584802  0.584718  \n",
      "\n",
      "[6272 rows x 1556 columns]\n"
     ]
    }
   ],
   "source": [
    "for label in data_labels:\n",
    "    print(label ,\" : \",sum(y==label))\n",
    "print(x)\n",
    "    "
   ]
  },
  {
   "cell_type": "code",
   "execution_count": null,
   "id": "3998f1ca",
   "metadata": {},
   "outputs": [],
   "source": [
    "\n"
   ]
  },
  {
   "cell_type": "code",
   "execution_count": null,
   "id": "fc20ed3b",
   "metadata": {},
   "outputs": [],
   "source": [
    "\n",
    "\n",
    "\n"
   ]
  },
  {
   "cell_type": "code",
   "execution_count": null,
   "id": "0dffcd5f",
   "metadata": {},
   "outputs": [],
   "source": []
  },
  {
   "cell_type": "code",
   "execution_count": null,
   "id": "34da5833",
   "metadata": {},
   "outputs": [],
   "source": []
  },
  {
   "cell_type": "code",
   "execution_count": null,
   "id": "c76847c5",
   "metadata": {},
   "outputs": [],
   "source": []
  },
  {
   "cell_type": "code",
   "execution_count": null,
   "id": "8f53a9c8",
   "metadata": {},
   "outputs": [],
   "source": [
    "\n"
   ]
  },
  {
   "cell_type": "code",
   "execution_count": null,
   "id": "39c1d499",
   "metadata": {},
   "outputs": [],
   "source": []
  },
  {
   "cell_type": "code",
   "execution_count": null,
   "id": "de524960",
   "metadata": {},
   "outputs": [],
   "source": []
  },
  {
   "cell_type": "code",
   "execution_count": null,
   "id": "069c088f",
   "metadata": {},
   "outputs": [],
   "source": []
  },
  {
   "cell_type": "code",
   "execution_count": 29,
   "id": "227b54eb",
   "metadata": {},
   "outputs": [],
   "source": [
    "from numpy import inf"
   ]
  },
  {
   "cell_type": "code",
   "execution_count": 30,
   "id": "68989e4e",
   "metadata": {
    "scrolled": true
   },
   "outputs": [
    {
     "name": "stdout",
     "output_type": "stream",
     "text": [
      "             0    1         2         3    4\n",
      "597   0.029011 -inf  0.124601  0.116165  1.0\n",
      "598   0.028946 -inf  0.124372  0.116129  1.0\n",
      "599   0.028920 -inf  0.124209  0.116192  1.0\n",
      "816   0.040648 -inf  0.149874  0.134899  1.0\n",
      "2726  0.028707 -inf  0.121998  0.117610  2.0\n",
      "2727  0.027949 -inf  0.117969  0.118495  2.0\n",
      "2728  0.029414 -inf  0.124975  0.117492  2.0\n",
      "2741  0.031302 -inf  0.129205  0.120902  2.0\n",
      "2742  0.031431 -inf  0.129763  0.120839  2.0\n",
      "2743  0.031568 -inf  0.130463  0.120650  2.0\n"
     ]
    }
   ],
   "source": [
    "print(final_df[final_df[1] ==  -inf])"
   ]
  },
  {
   "cell_type": "code",
   "execution_count": 31,
   "id": "91527108",
   "metadata": {},
   "outputs": [
    {
     "name": "stdout",
     "output_type": "stream",
     "text": [
      "6262\n",
      "6272\n"
     ]
    }
   ],
   "source": [
    "# to solve the indexing issue converted it to a dataframe and then again converted back to the dataframe representation\n",
    "has_no_inf =np.array(final_df[final_df[1] !=  -inf])\n",
    "has_no_inf = pd.DataFrame(has_no_inf)\n",
    "print(len(has_no_inf))\n",
    "print(len(final_df))"
   ]
  },
  {
   "cell_type": "code",
   "execution_count": 32,
   "id": "fade970e",
   "metadata": {
    "scrolled": true
   },
   "outputs": [
    {
     "name": "stdout",
     "output_type": "stream",
     "text": [
      "6262\n",
      "0       10.202274\n",
      "1       10.202274\n",
      "2       10.201296\n",
      "3       10.202564\n",
      "4       10.253037\n",
      "          ...    \n",
      "6257    10.474233\n",
      "6258    10.485165\n",
      "6259    10.252129\n",
      "6260    10.245235\n",
      "6261    10.257165\n",
      "Name: 1, Length: 6262, dtype: float64\n"
     ]
    }
   ],
   "source": [
    "energy = has_no_inf[0]\n",
    "enthorphy = has_no_inf[1]\n",
    "targettt =  has_no_inf[2]\n",
    "print(len(targettt))\n",
    "print(enthorphy)\n",
    "# print(targettt)"
   ]
  },
  {
   "cell_type": "code",
   "execution_count": 33,
   "id": "d361a10c",
   "metadata": {},
   "outputs": [
    {
     "name": "stdout",
     "output_type": "stream",
     "text": [
      "nan\n",
      "nan\n",
      "nan\n",
      "nan\n"
     ]
    },
    {
     "name": "stderr",
     "output_type": "stream",
     "text": [
      "C:\\ProgramData\\Anaconda3\\lib\\site-packages\\numpy\\core\\fromnumeric.py:3440: RuntimeWarning: Mean of empty slice.\n",
      "  return _methods._mean(a, axis=axis, dtype=dtype,\n",
      "C:\\ProgramData\\Anaconda3\\lib\\site-packages\\numpy\\core\\_methods.py:189: RuntimeWarning: invalid value encountered in double_scalars\n",
      "  ret = ret.dtype.type(ret / rcount)\n"
     ]
    }
   ],
   "source": [
    "one_label_values = []\n",
    "two_label_values = []\n",
    "three_label_values = []\n",
    "four_label_values = []\n",
    "\n",
    "for i in range(0,len(targettt)):\n",
    "    if targettt[i] == 1:\n",
    "        one_label_values.append(energy[i])\n",
    "    elif targettt[i] == 2:\n",
    "        two_label_values.append(energy[i])\n",
    "    elif targettt[i] == 3:\n",
    "        three_label_values.append(energy[i])\n",
    "    elif targettt[i] == 4:\n",
    "        four_label_values.append(energy[i])\n",
    "print(np.mean(one_label_values))\n",
    "print(np.mean(two_label_values))\n",
    "print(np.mean(three_label_values))\n",
    "print(np.mean(four_label_values))\n",
    "\n",
    "        \n",
    "        \n",
    "        "
   ]
  },
  {
   "cell_type": "code",
   "execution_count": 34,
   "id": "aab691af",
   "metadata": {},
   "outputs": [],
   "source": [
    "has_no_inf.to_csv('final_datasetttt.csv', index=False)"
   ]
  },
  {
   "cell_type": "code",
   "execution_count": 35,
   "id": "940adba7",
   "metadata": {},
   "outputs": [
    {
     "name": "stdout",
     "output_type": "stream",
     "text": [
      "nan\n",
      "nan\n",
      "nan\n",
      "nan\n"
     ]
    }
   ],
   "source": [
    "one_label_values = []\n",
    "two_label_values = []\n",
    "three_label_values = []\n",
    "four_label_values = []\n",
    "\n",
    "for i in range(0,len(targettt)):\n",
    "    if targettt[i] == 1 :\n",
    "        one_label_values.append(enthorphy[i])\n",
    "    elif targettt[i] == 2:\n",
    "        two_label_values.append(enthorphy[i])\n",
    "    elif targettt[i] == 3:\n",
    "        three_label_values.append(enthorphy[i])\n",
    "    elif targettt[i] == 4:\n",
    "        four_label_values.append(enthorphy[i])\n",
    "\n",
    "print(np.mean(one_label_values))\n",
    "print(np.mean(two_label_values))\n",
    "print(np.mean(three_label_values))\n",
    "print(np.mean(four_label_values))\n",
    "\n",
    "# before eliminating\n",
    "# -inf\n",
    "# -inf\n",
    "# 10.396299390018594\n",
    "# 10.36777444704494"
   ]
  },
  {
   "cell_type": "code",
   "execution_count": 36,
   "id": "86d0ccb0",
   "metadata": {},
   "outputs": [
    {
     "name": "stdout",
     "output_type": "stream",
     "text": [
      "F-statistic of energy: 535.7820163510115\n",
      "p-value of energy: 6.3304365007393e-310\n"
     ]
    }
   ],
   "source": [
    "from scipy.stats import f_oneway\n",
    "f_statistic, p_value = f_oneway(\n",
    "    \n",
    "    has_no_inf[has_no_inf[4] == 1.0][0],\n",
    "    has_no_inf[has_no_inf[4] == 2.0][0],\n",
    "    has_no_inf[has_no_inf[4] == 3.0][0],\n",
    "    has_no_inf[has_no_inf[4] == 4.0][0]\n",
    ")\n",
    "\n",
    "# Print the F-statistic and p-value\n",
    "print('F-statistic of energy:', f_statistic)\n",
    "print('p-value of energy:', p_value)\n"
   ]
  },
  {
   "cell_type": "code",
   "execution_count": 37,
   "id": "d10bf345",
   "metadata": {},
   "outputs": [
    {
     "name": "stdout",
     "output_type": "stream",
     "text": [
      "F-statistic of energy: 235.23704023993463\n",
      "p-value of energy: 1.2643980547567987e-144\n"
     ]
    }
   ],
   "source": [
    "\n",
    "f_statistic, p_value = f_oneway(\n",
    "    \n",
    "    has_no_inf[has_no_inf[4] == 1.0][1],\n",
    "    has_no_inf[has_no_inf[4] == 2.0][1],\n",
    "    has_no_inf[has_no_inf[4] == 3.0][1],\n",
    "    has_no_inf[has_no_inf[4] == 4.0][1]\n",
    ")\n",
    "\n",
    "# Print the F-statistic and p-value\n",
    "print('F-statistic of energy:', f_statistic)\n",
    "print('p-value of energy:', p_value)\n"
   ]
  },
  {
   "cell_type": "code",
   "execution_count": 38,
   "id": "4adc311c",
   "metadata": {},
   "outputs": [
    {
     "name": "stdout",
     "output_type": "stream",
     "text": [
      "F-statistic of mean: 444.55347177652635\n",
      "p-value of mean: 7.87026109521312e-262\n"
     ]
    }
   ],
   "source": [
    "\n",
    "f_statistic, p_value = f_oneway(\n",
    "    \n",
    "    has_no_inf[has_no_inf[4] == 1.0][2],\n",
    "    has_no_inf[has_no_inf[4] == 2.0][2],\n",
    "    has_no_inf[has_no_inf[4] == 3.0][2],\n",
    "    has_no_inf[has_no_inf[4] == 4.0][2]\n",
    ")\n",
    "\n",
    "# Print the F-statistic and p-value\n",
    "print('F-statistic of mean:', f_statistic)\n",
    "print('p-value of mean:', p_value)\n"
   ]
  },
  {
   "cell_type": "code",
   "execution_count": 39,
   "id": "6bd37bdf",
   "metadata": {},
   "outputs": [
    {
     "name": "stdout",
     "output_type": "stream",
     "text": [
      "F-statistic of standard deviation: 5867.316831637735\n",
      "p-value of standard deviation: 0.0\n"
     ]
    }
   ],
   "source": [
    "\n",
    "f_statistic, p_value = f_oneway(\n",
    "    \n",
    "    has_no_inf[has_no_inf[4] == 1.0][3],\n",
    "    has_no_inf[has_no_inf[4] == 2.0][3],\n",
    "    has_no_inf[has_no_inf[4] == 3.0][3],\n",
    "    has_no_inf[has_no_inf[4] == 4.0][2]\n",
    ")\n",
    "\n",
    "# Print the F-statistic and p-value\n",
    "print('F-statistic of standard deviation:', f_statistic)\n",
    "print('p-value of standard deviation:', p_value)\n",
    "\n"
   ]
  },
  {
   "cell_type": "code",
   "execution_count": null,
   "id": "caee80d3",
   "metadata": {},
   "outputs": [],
   "source": [
    "\n",
    "\n"
   ]
  },
  {
   "cell_type": "code",
   "execution_count": 40,
   "id": "2359746a",
   "metadata": {},
   "outputs": [
    {
     "name": "stdout",
     "output_type": "stream",
     "text": [
      "op\n"
     ]
    }
   ],
   "source": [
    "# import matplotlib.pyplot as plt\n",
    "\n",
    "# # Plot histograms for each class\n",
    "# for c in has_no_inf[2].unique():\n",
    "#     plt.hist(has_no_inf[has_no_inf[2] == c][0], alpha=0.5, label=c)\n",
    "\n",
    "# plt.legend()\n",
    "# plt.show()\n",
    "print(\"op\")"
   ]
  },
  {
   "cell_type": "code",
   "execution_count": 41,
   "id": "c7f8f4aa",
   "metadata": {},
   "outputs": [
    {
     "name": "stdout",
     "output_type": "stream",
     "text": [
      "op\n"
     ]
    }
   ],
   "source": [
    "# import matplotlib.pyplot as plt\n",
    "\n",
    "# # Plot histograms for each class\n",
    "# for c in has_no_inf[2].unique():\n",
    "#     plt.hist(has_no_inf[has_no_inf[2] == c][1], alpha=0.5, label=c)\n",
    "\n",
    "# plt.legend()\n",
    "# plt.show()\n",
    "print(\"op\")\n"
   ]
  },
  {
   "cell_type": "code",
   "execution_count": 42,
   "id": "01ff0a56",
   "metadata": {},
   "outputs": [
    {
     "name": "stdout",
     "output_type": "stream",
     "text": [
      "             0          1         2         3\n",
      "0     0.050875  10.202274  0.179944  0.136042\n",
      "1     0.050875  10.202274  0.179944  0.136042\n",
      "2     0.051001  10.201296  0.180103  0.136291\n",
      "3     0.051222  10.202564  0.180603  0.136442\n",
      "4     0.047869  10.253037  0.178547  0.126492\n",
      "...        ...        ...       ...       ...\n",
      "6257  0.074956  10.474233  0.250396  0.110750\n",
      "6258  0.080151  10.485165  0.260713  0.110400\n",
      "6259  0.050862  10.252129  0.183107  0.131701\n",
      "6260  0.053483  10.245235  0.187403  0.135553\n",
      "6261  0.050614  10.257165  0.183076  0.130799\n",
      "\n",
      "[6262 rows x 4 columns]\n",
      "0       1.0\n",
      "1       1.0\n",
      "2       1.0\n",
      "3       1.0\n",
      "4       1.0\n",
      "       ... \n",
      "6257    4.0\n",
      "6258    4.0\n",
      "6259    4.0\n",
      "6260    4.0\n",
      "6261    4.0\n",
      "Name: 4, Length: 6262, dtype: float64\n"
     ]
    }
   ],
   "source": [
    "x = has_no_inf.iloc[:, :4]\n",
    "y = has_no_inf[4]\n",
    "print(x)\n",
    "print(y)\n"
   ]
  },
  {
   "cell_type": "code",
   "execution_count": 43,
   "id": "018ea173",
   "metadata": {},
   "outputs": [
    {
     "name": "stdout",
     "output_type": "stream",
     "text": [
      "4.0    1430\n",
      "1.0    1395\n",
      "2.0    1285\n",
      "3.0    1212\n",
      "Name: 4, dtype: int64\n",
      "1.0    266\n",
      "4.0    245\n",
      "2.0    225\n",
      "3.0    204\n",
      "Name: 4, dtype: int64\n"
     ]
    }
   ],
   "source": [
    "from sklearn.model_selection import train_test_split\n",
    "\n",
    "x_train,x_test,y_train,y_test = train_test_split(x,y,random_state=42,test_size=0.15)\n",
    "print(y_train.value_counts())\n",
    "print(y_test.value_counts())\n"
   ]
  },
  {
   "cell_type": "code",
   "execution_count": null,
   "id": "1b57e093",
   "metadata": {},
   "outputs": [],
   "source": [
    "\n"
   ]
  },
  {
   "cell_type": "code",
   "execution_count": 44,
   "id": "d1b98117",
   "metadata": {},
   "outputs": [],
   "source": [
    "from sklearn import metrics\n",
    "from sklearn.metrics import confusion_matrix\n",
    "from sklearn.linear_model import LogisticRegression\n",
    "from sklearn.svm import SVC\n",
    "from sklearn.neighbors import KNeighborsClassifier\n",
    "from sklearn.tree import DecisionTreeClassifier\n",
    "from sklearn.ensemble import RandomForestClassifier\n",
    "from sklearn.naive_bayes import GaussianNB"
   ]
  },
  {
   "cell_type": "code",
   "execution_count": 45,
   "id": "da26b596",
   "metadata": {},
   "outputs": [],
   "source": [
    "model_list =[\"LogisticRegression\",\"KNeighborsClassifier\",\"RandomForestClassifier\",\"GaussianNB\",\"Simple DecisionTreeClassifier\",\"ID3 DecisionTreeClassifier \",\"svm\"]"
   ]
  },
  {
   "cell_type": "code",
   "execution_count": 46,
   "id": "896a725e",
   "metadata": {},
   "outputs": [],
   "source": [
    "model_pipeline = []\n",
    "model_pipeline.append(LogisticRegression())\n",
    "\n",
    "model_pipeline.append(KNeighborsClassifier())\n",
    "model_pipeline.append(RandomForestClassifier())\n",
    "model_pipeline.append(GaussianNB())\n",
    "model_pipeline.append(DecisionTreeClassifier(criterion='gini'))\n",
    "model_pipeline.append(DecisionTreeClassifier(criterion='entropy'))\n",
    "model_pipeline.append(SVC(C=10, gamma=0.1, kernel='rbf', decision_function_shape='ovr'))\n",
    "\n",
    "\n",
    "acc_list = []\n",
    "auc_list = []\n",
    "cm_list = []\n"
   ]
  },
  {
   "cell_type": "code",
   "execution_count": 47,
   "id": "55ed06ee",
   "metadata": {},
   "outputs": [
    {
     "name": "stderr",
     "output_type": "stream",
     "text": [
      "C:\\ProgramData\\Anaconda3\\lib\\site-packages\\sklearn\\linear_model\\_logistic.py:814: ConvergenceWarning: lbfgs failed to converge (status=1):\n",
      "STOP: TOTAL NO. of ITERATIONS REACHED LIMIT.\n",
      "\n",
      "Increase the number of iterations (max_iter) or scale the data as shown in:\n",
      "    https://scikit-learn.org/stable/modules/preprocessing.html\n",
      "Please also refer to the documentation for alternative solver options:\n",
      "    https://scikit-learn.org/stable/modules/linear_model.html#logistic-regression\n",
      "  n_iter_i = _check_optimize_result(\n",
      "C:\\ProgramData\\Anaconda3\\lib\\site-packages\\sklearn\\neighbors\\_classification.py:228: FutureWarning: Unlike other reduction functions (e.g. `skew`, `kurtosis`), the default behavior of `mode` typically preserves the axis it acts along. In SciPy 1.11.0, this behavior will change: the default value of `keepdims` will become False, the `axis` over which the statistic is taken will be eliminated, and the value None will no longer be accepted. Set `keepdims` to True or False to avoid this warning.\n",
      "  mode, _ = stats.mode(_y[neigh_ind, k], axis=1)\n"
     ]
    }
   ],
   "source": [
    "for model in model_pipeline:\n",
    "    model.fit(x_train,y_train)\n",
    "    y_pred = model.predict(x_test)\n",
    "    acc_list.append(metrics.accuracy_score(y_test,y_pred))\n",
    "    cm_list.append(metrics.confusion_matrix(y_test,y_pred))\n",
    "    \n",
    "    "
   ]
  },
  {
   "cell_type": "code",
   "execution_count": 48,
   "id": "24ca1401",
   "metadata": {},
   "outputs": [],
   "source": [
    "from matplotlib import pyplot as plt\n",
    "import seaborn as sns"
   ]
  },
  {
   "cell_type": "code",
   "execution_count": 49,
   "id": "4a2405ad",
   "metadata": {},
   "outputs": [
    {
     "data": {
      "image/png": "[encoded data removed]",
      "text/plain": [
       "<Figure size 3600x2000 with 14 Axes>"
      ]
     },
     "metadata": {},
     "output_type": "display_data"
    }
   ],
   "source": [
    "fig = plt.figure(figsize=(36,20))\n",
    "for i in range(len(cm_list)):\n",
    "    cm = cm_list[i]\n",
    "    model = model_list[i]\n",
    "    sub =  fig.add_subplot(4,3,i+1).set_title(model)\n",
    "    cm_plot = sns.heatmap(cm,annot=True)\n",
    "    cm_plot.set_xlabel(\"predicted values\")\n",
    "    cm_plot.set_ylabel(\"Actual values\")\n",
    "    cm_plot.xaxis.set_ticklabels(data_labels)\n",
    "    cm_plot.yaxis.set_ticklabels(data_labels)"
   ]
  },
  {
   "cell_type": "code",
   "execution_count": 50,
   "id": "217b879b",
   "metadata": {},
   "outputs": [],
   "source": [
    "result_of_dataframe = pd.DataFrame({'Model':model_list,'ACCURACY':acc_list})"
   ]
  },
  {
   "cell_type": "code",
   "execution_count": 51,
   "id": "6d52a5fe",
   "metadata": {},
   "outputs": [
    {
     "name": "stdout",
     "output_type": "stream",
     "text": [
      "                           Model  ACCURACY\n",
      "0             LogisticRegression  0.400000\n",
      "1           KNeighborsClassifier  0.591489\n",
      "2         RandomForestClassifier  0.719149\n",
      "3                     GaussianNB  0.424468\n",
      "4  Simple DecisionTreeClassifier  0.670213\n",
      "5    ID3 DecisionTreeClassifier   0.695745\n",
      "6                            svm  0.403191\n"
     ]
    }
   ],
   "source": [
    "print(result_of_dataframe)"
   ]
  },
  {
   "cell_type": "code",
   "execution_count": 52,
   "id": "432dd4f1",
   "metadata": {},
   "outputs": [
    {
     "name": "stderr",
     "output_type": "stream",
     "text": [
      "C:\\ProgramData\\Anaconda3\\lib\\site-packages\\sklearn\\neighbors\\_classification.py:228: FutureWarning: Unlike other reduction functions (e.g. `skew`, `kurtosis`), the default behavior of `mode` typically preserves the axis it acts along. In SciPy 1.11.0, this behavior will change: the default value of `keepdims` will become False, the `axis` over which the statistic is taken will be eliminated, and the value None will no longer be accepted. Set `keepdims` to True or False to avoid this warning.\n",
      "  mode, _ = stats.mode(_y[neigh_ind, k], axis=1)\n",
      "C:\\ProgramData\\Anaconda3\\lib\\site-packages\\sklearn\\neighbors\\_classification.py:228: FutureWarning: Unlike other reduction functions (e.g. `skew`, `kurtosis`), the default behavior of `mode` typically preserves the axis it acts along. In SciPy 1.11.0, this behavior will change: the default value of `keepdims` will become False, the `axis` over which the statistic is taken will be eliminated, and the value None will no longer be accepted. Set `keepdims` to True or False to avoid this warning.\n",
      "  mode, _ = stats.mode(_y[neigh_ind, k], axis=1)\n",
      "C:\\ProgramData\\Anaconda3\\lib\\site-packages\\sklearn\\neighbors\\_classification.py:228: FutureWarning: Unlike other reduction functions (e.g. `skew`, `kurtosis`), the default behavior of `mode` typically preserves the axis it acts along. In SciPy 1.11.0, this behavior will change: the default value of `keepdims` will become False, the `axis` over which the statistic is taken will be eliminated, and the value None will no longer be accepted. Set `keepdims` to True or False to avoid this warning.\n",
      "  mode, _ = stats.mode(_y[neigh_ind, k], axis=1)\n",
      "C:\\ProgramData\\Anaconda3\\lib\\site-packages\\sklearn\\neighbors\\_classification.py:228: FutureWarning: Unlike other reduction functions (e.g. `skew`, `kurtosis`), the default behavior of `mode` typically preserves the axis it acts along. In SciPy 1.11.0, this behavior will change: the default value of `keepdims` will become False, the `axis` over which the statistic is taken will be eliminated, and the value None will no longer be accepted. Set `keepdims` to True or False to avoid this warning.\n",
      "  mode, _ = stats.mode(_y[neigh_ind, k], axis=1)\n",
      "C:\\ProgramData\\Anaconda3\\lib\\site-packages\\sklearn\\neighbors\\_classification.py:228: FutureWarning: Unlike other reduction functions (e.g. `skew`, `kurtosis`), the default behavior of `mode` typically preserves the axis it acts along. In SciPy 1.11.0, this behavior will change: the default value of `keepdims` will become False, the `axis` over which the statistic is taken will be eliminated, and the value None will no longer be accepted. Set `keepdims` to True or False to avoid this warning.\n",
      "  mode, _ = stats.mode(_y[neigh_ind, k], axis=1)\n",
      "C:\\ProgramData\\Anaconda3\\lib\\site-packages\\sklearn\\neighbors\\_classification.py:228: FutureWarning: Unlike other reduction functions (e.g. `skew`, `kurtosis`), the default behavior of `mode` typically preserves the axis it acts along. In SciPy 1.11.0, this behavior will change: the default value of `keepdims` will become False, the `axis` over which the statistic is taken will be eliminated, and the value None will no longer be accepted. Set `keepdims` to True or False to avoid this warning.\n",
      "  mode, _ = stats.mode(_y[neigh_ind, k], axis=1)\n",
      "C:\\ProgramData\\Anaconda3\\lib\\site-packages\\sklearn\\neighbors\\_classification.py:228: FutureWarning: Unlike other reduction functions (e.g. `skew`, `kurtosis`), the default behavior of `mode` typically preserves the axis it acts along. In SciPy 1.11.0, this behavior will change: the default value of `keepdims` will become False, the `axis` over which the statistic is taken will be eliminated, and the value None will no longer be accepted. Set `keepdims` to True or False to avoid this warning.\n",
      "  mode, _ = stats.mode(_y[neigh_ind, k], axis=1)\n",
      "C:\\ProgramData\\Anaconda3\\lib\\site-packages\\sklearn\\neighbors\\_classification.py:228: FutureWarning: Unlike other reduction functions (e.g. `skew`, `kurtosis`), the default behavior of `mode` typically preserves the axis it acts along. In SciPy 1.11.0, this behavior will change: the default value of `keepdims` will become False, the `axis` over which the statistic is taken will be eliminated, and the value None will no longer be accepted. Set `keepdims` to True or False to avoid this warning.\n",
      "  mode, _ = stats.mode(_y[neigh_ind, k], axis=1)\n",
      "C:\\ProgramData\\Anaconda3\\lib\\site-packages\\sklearn\\neighbors\\_classification.py:228: FutureWarning: Unlike other reduction functions (e.g. `skew`, `kurtosis`), the default behavior of `mode` typically preserves the axis it acts along. In SciPy 1.11.0, this behavior will change: the default value of `keepdims` will become False, the `axis` over which the statistic is taken will be eliminated, and the value None will no longer be accepted. Set `keepdims` to True or False to avoid this warning.\n",
      "  mode, _ = stats.mode(_y[neigh_ind, k], axis=1)\n",
      "C:\\ProgramData\\Anaconda3\\lib\\site-packages\\sklearn\\neighbors\\_classification.py:228: FutureWarning: Unlike other reduction functions (e.g. `skew`, `kurtosis`), the default behavior of `mode` typically preserves the axis it acts along. In SciPy 1.11.0, this behavior will change: the default value of `keepdims` will become False, the `axis` over which the statistic is taken will be eliminated, and the value None will no longer be accepted. Set `keepdims` to True or False to avoid this warning.\n",
      "  mode, _ = stats.mode(_y[neigh_ind, k], axis=1)\n",
      "C:\\ProgramData\\Anaconda3\\lib\\site-packages\\sklearn\\neighbors\\_classification.py:228: FutureWarning: Unlike other reduction functions (e.g. `skew`, `kurtosis`), the default behavior of `mode` typically preserves the axis it acts along. In SciPy 1.11.0, this behavior will change: the default value of `keepdims` will become False, the `axis` over which the statistic is taken will be eliminated, and the value None will no longer be accepted. Set `keepdims` to True or False to avoid this warning.\n",
      "  mode, _ = stats.mode(_y[neigh_ind, k], axis=1)\n",
      "C:\\ProgramData\\Anaconda3\\lib\\site-packages\\sklearn\\neighbors\\_classification.py:228: FutureWarning: Unlike other reduction functions (e.g. `skew`, `kurtosis`), the default behavior of `mode` typically preserves the axis it acts along. In SciPy 1.11.0, this behavior will change: the default value of `keepdims` will become False, the `axis` over which the statistic is taken will be eliminated, and the value None will no longer be accepted. Set `keepdims` to True or False to avoid this warning.\n",
      "  mode, _ = stats.mode(_y[neigh_ind, k], axis=1)\n",
      "C:\\ProgramData\\Anaconda3\\lib\\site-packages\\sklearn\\neighbors\\_classification.py:228: FutureWarning: Unlike other reduction functions (e.g. `skew`, `kurtosis`), the default behavior of `mode` typically preserves the axis it acts along. In SciPy 1.11.0, this behavior will change: the default value of `keepdims` will become False, the `axis` over which the statistic is taken will be eliminated, and the value None will no longer be accepted. Set `keepdims` to True or False to avoid this warning.\n",
      "  mode, _ = stats.mode(_y[neigh_ind, k], axis=1)\n",
      "C:\\ProgramData\\Anaconda3\\lib\\site-packages\\sklearn\\neighbors\\_classification.py:228: FutureWarning: Unlike other reduction functions (e.g. `skew`, `kurtosis`), the default behavior of `mode` typically preserves the axis it acts along. In SciPy 1.11.0, this behavior will change: the default value of `keepdims` will become False, the `axis` over which the statistic is taken will be eliminated, and the value None will no longer be accepted. Set `keepdims` to True or False to avoid this warning.\n",
      "  mode, _ = stats.mode(_y[neigh_ind, k], axis=1)\n",
      "C:\\ProgramData\\Anaconda3\\lib\\site-packages\\sklearn\\neighbors\\_classification.py:228: FutureWarning: Unlike other reduction functions (e.g. `skew`, `kurtosis`), the default behavior of `mode` typically preserves the axis it acts along. In SciPy 1.11.0, this behavior will change: the default value of `keepdims` will become False, the `axis` over which the statistic is taken will be eliminated, and the value None will no longer be accepted. Set `keepdims` to True or False to avoid this warning.\n",
      "  mode, _ = stats.mode(_y[neigh_ind, k], axis=1)\n",
      "C:\\ProgramData\\Anaconda3\\lib\\site-packages\\sklearn\\neighbors\\_classification.py:228: FutureWarning: Unlike other reduction functions (e.g. `skew`, `kurtosis`), the default behavior of `mode` typically preserves the axis it acts along. In SciPy 1.11.0, this behavior will change: the default value of `keepdims` will become False, the `axis` over which the statistic is taken will be eliminated, and the value None will no longer be accepted. Set `keepdims` to True or False to avoid this warning.\n",
      "  mode, _ = stats.mode(_y[neigh_ind, k], axis=1)\n",
      "C:\\ProgramData\\Anaconda3\\lib\\site-packages\\sklearn\\neighbors\\_classification.py:228: FutureWarning: Unlike other reduction functions (e.g. `skew`, `kurtosis`), the default behavior of `mode` typically preserves the axis it acts along. In SciPy 1.11.0, this behavior will change: the default value of `keepdims` will become False, the `axis` over which the statistic is taken will be eliminated, and the value None will no longer be accepted. Set `keepdims` to True or False to avoid this warning.\n",
      "  mode, _ = stats.mode(_y[neigh_ind, k], axis=1)\n",
      "C:\\ProgramData\\Anaconda3\\lib\\site-packages\\sklearn\\neighbors\\_classification.py:228: FutureWarning: Unlike other reduction functions (e.g. `skew`, `kurtosis`), the default behavior of `mode` typically preserves the axis it acts along. In SciPy 1.11.0, this behavior will change: the default value of `keepdims` will become False, the `axis` over which the statistic is taken will be eliminated, and the value None will no longer be accepted. Set `keepdims` to True or False to avoid this warning.\n",
      "  mode, _ = stats.mode(_y[neigh_ind, k], axis=1)\n",
      "C:\\ProgramData\\Anaconda3\\lib\\site-packages\\sklearn\\neighbors\\_classification.py:228: FutureWarning: Unlike other reduction functions (e.g. `skew`, `kurtosis`), the default behavior of `mode` typically preserves the axis it acts along. In SciPy 1.11.0, this behavior will change: the default value of `keepdims` will become False, the `axis` over which the statistic is taken will be eliminated, and the value None will no longer be accepted. Set `keepdims` to True or False to avoid this warning.\n",
      "  mode, _ = stats.mode(_y[neigh_ind, k], axis=1)\n",
      "C:\\ProgramData\\Anaconda3\\lib\\site-packages\\sklearn\\neighbors\\_classification.py:228: FutureWarning: Unlike other reduction functions (e.g. `skew`, `kurtosis`), the default behavior of `mode` typically preserves the axis it acts along. In SciPy 1.11.0, this behavior will change: the default value of `keepdims` will become False, the `axis` over which the statistic is taken will be eliminated, and the value None will no longer be accepted. Set `keepdims` to True or False to avoid this warning.\n",
      "  mode, _ = stats.mode(_y[neigh_ind, k], axis=1)\n"
     ]
    },
    {
     "name": "stderr",
     "output_type": "stream",
     "text": [
      "C:\\ProgramData\\Anaconda3\\lib\\site-packages\\sklearn\\neighbors\\_classification.py:228: FutureWarning: Unlike other reduction functions (e.g. `skew`, `kurtosis`), the default behavior of `mode` typically preserves the axis it acts along. In SciPy 1.11.0, this behavior will change: the default value of `keepdims` will become False, the `axis` over which the statistic is taken will be eliminated, and the value None will no longer be accepted. Set `keepdims` to True or False to avoid this warning.\n",
      "  mode, _ = stats.mode(_y[neigh_ind, k], axis=1)\n",
      "C:\\ProgramData\\Anaconda3\\lib\\site-packages\\sklearn\\neighbors\\_classification.py:228: FutureWarning: Unlike other reduction functions (e.g. `skew`, `kurtosis`), the default behavior of `mode` typically preserves the axis it acts along. In SciPy 1.11.0, this behavior will change: the default value of `keepdims` will become False, the `axis` over which the statistic is taken will be eliminated, and the value None will no longer be accepted. Set `keepdims` to True or False to avoid this warning.\n",
      "  mode, _ = stats.mode(_y[neigh_ind, k], axis=1)\n",
      "C:\\ProgramData\\Anaconda3\\lib\\site-packages\\sklearn\\neighbors\\_classification.py:228: FutureWarning: Unlike other reduction functions (e.g. `skew`, `kurtosis`), the default behavior of `mode` typically preserves the axis it acts along. In SciPy 1.11.0, this behavior will change: the default value of `keepdims` will become False, the `axis` over which the statistic is taken will be eliminated, and the value None will no longer be accepted. Set `keepdims` to True or False to avoid this warning.\n",
      "  mode, _ = stats.mode(_y[neigh_ind, k], axis=1)\n",
      "C:\\ProgramData\\Anaconda3\\lib\\site-packages\\sklearn\\neighbors\\_classification.py:228: FutureWarning: Unlike other reduction functions (e.g. `skew`, `kurtosis`), the default behavior of `mode` typically preserves the axis it acts along. In SciPy 1.11.0, this behavior will change: the default value of `keepdims` will become False, the `axis` over which the statistic is taken will be eliminated, and the value None will no longer be accepted. Set `keepdims` to True or False to avoid this warning.\n",
      "  mode, _ = stats.mode(_y[neigh_ind, k], axis=1)\n",
      "C:\\ProgramData\\Anaconda3\\lib\\site-packages\\sklearn\\neighbors\\_classification.py:228: FutureWarning: Unlike other reduction functions (e.g. `skew`, `kurtosis`), the default behavior of `mode` typically preserves the axis it acts along. In SciPy 1.11.0, this behavior will change: the default value of `keepdims` will become False, the `axis` over which the statistic is taken will be eliminated, and the value None will no longer be accepted. Set `keepdims` to True or False to avoid this warning.\n",
      "  mode, _ = stats.mode(_y[neigh_ind, k], axis=1)\n",
      "C:\\ProgramData\\Anaconda3\\lib\\site-packages\\sklearn\\neighbors\\_classification.py:228: FutureWarning: Unlike other reduction functions (e.g. `skew`, `kurtosis`), the default behavior of `mode` typically preserves the axis it acts along. In SciPy 1.11.0, this behavior will change: the default value of `keepdims` will become False, the `axis` over which the statistic is taken will be eliminated, and the value None will no longer be accepted. Set `keepdims` to True or False to avoid this warning.\n",
      "  mode, _ = stats.mode(_y[neigh_ind, k], axis=1)\n",
      "C:\\ProgramData\\Anaconda3\\lib\\site-packages\\sklearn\\neighbors\\_classification.py:228: FutureWarning: Unlike other reduction functions (e.g. `skew`, `kurtosis`), the default behavior of `mode` typically preserves the axis it acts along. In SciPy 1.11.0, this behavior will change: the default value of `keepdims` will become False, the `axis` over which the statistic is taken will be eliminated, and the value None will no longer be accepted. Set `keepdims` to True or False to avoid this warning.\n",
      "  mode, _ = stats.mode(_y[neigh_ind, k], axis=1)\n",
      "C:\\ProgramData\\Anaconda3\\lib\\site-packages\\sklearn\\neighbors\\_classification.py:228: FutureWarning: Unlike other reduction functions (e.g. `skew`, `kurtosis`), the default behavior of `mode` typically preserves the axis it acts along. In SciPy 1.11.0, this behavior will change: the default value of `keepdims` will become False, the `axis` over which the statistic is taken will be eliminated, and the value None will no longer be accepted. Set `keepdims` to True or False to avoid this warning.\n",
      "  mode, _ = stats.mode(_y[neigh_ind, k], axis=1)\n",
      "C:\\ProgramData\\Anaconda3\\lib\\site-packages\\sklearn\\neighbors\\_classification.py:228: FutureWarning: Unlike other reduction functions (e.g. `skew`, `kurtosis`), the default behavior of `mode` typically preserves the axis it acts along. In SciPy 1.11.0, this behavior will change: the default value of `keepdims` will become False, the `axis` over which the statistic is taken will be eliminated, and the value None will no longer be accepted. Set `keepdims` to True or False to avoid this warning.\n",
      "  mode, _ = stats.mode(_y[neigh_ind, k], axis=1)\n",
      "C:\\ProgramData\\Anaconda3\\lib\\site-packages\\sklearn\\neighbors\\_classification.py:228: FutureWarning: Unlike other reduction functions (e.g. `skew`, `kurtosis`), the default behavior of `mode` typically preserves the axis it acts along. In SciPy 1.11.0, this behavior will change: the default value of `keepdims` will become False, the `axis` over which the statistic is taken will be eliminated, and the value None will no longer be accepted. Set `keepdims` to True or False to avoid this warning.\n",
      "  mode, _ = stats.mode(_y[neigh_ind, k], axis=1)\n"
     ]
    },
    {
     "name": "stdout",
     "output_type": "stream",
     "text": [
      "Accuracy: 0.7265957446808511\n",
      "Best hyperparameters: {'knn__metric': 'manhattan', 'knn__n_neighbors': 4, 'knn__weights': 'distance', 'pca__n_components': 4}\n"
     ]
    }
   ],
   "source": [
    "import numpy as np\n",
    "from sklearn.neighbors import KNeighborsClassifier\n",
    "from sklearn.decomposition import PCA\n",
    "from sklearn.model_selection import train_test_split, GridSearchCV\n",
    "from sklearn.metrics import accuracy_score\n",
    "from sklearn.pipeline import Pipeline\n",
    "\n",
    "\n",
    "\n",
    "# Create a pipeline for the k-NN classifier\n",
    "pipe = Pipeline([('pca', PCA()), ('knn', KNeighborsClassifier())])\n",
    "\n",
    "# Define the hyperparameters to tune\n",
    "params = {'pca__n_components': [2, 3, 4], 'knn__n_neighbors': [4], 'knn__weights': ['uniform', 'distance'], 'knn__metric': ['euclidean', 'manhattan']}\n",
    "\n",
    "# Perform grid search to find the best hyperparameters\n",
    "grid = GridSearchCV(pipe, params, cv=5)\n",
    "grid.fit(x_train, y_train)\n",
    "\n",
    "# Make predictions on the testing set using the best model\n",
    "y_pred = grid.predict(x_test)\n",
    "\n",
    "# Calculate the accuracy of the classifier\n",
    "accuracy = accuracy_score(y_test, y_pred)\n",
    "\n",
    "print(f\"Accuracy: {accuracy}\")\n",
    "print(f\"Best hyperparameters: {grid.best_params_}\")\n"
   ]
  },
  {
   "cell_type": "code",
   "execution_count": null,
   "id": "d049a4a7",
   "metadata": {},
   "outputs": [],
   "source": []
  },
  {
   "cell_type": "code",
   "execution_count": 53,
   "id": "fbc98aab",
   "metadata": {},
   "outputs": [
    {
     "name": "stdout",
     "output_type": "stream",
     "text": [
      "0.26382978723404255\n",
      "[[  3   0   0 263]\n",
      " [  3   0   0 222]\n",
      " [  0   0   0 204]\n",
      " [  0   0   0 245]]\n"
     ]
    }
   ],
   "source": [
    "model = SVC()\n",
    "model.fit(x_train,y_train)\n",
    "y_pred = model.predict(x_test)\n",
    "print(metrics.accuracy_score(y_test,y_pred))\n",
    "print(metrics.confusion_matrix(y_test,y_pred))"
   ]
  },
  {
   "cell_type": "code",
   "execution_count": 54,
   "id": "1365d9c5",
   "metadata": {},
   "outputs": [
    {
     "name": "stdout",
     "output_type": "stream",
     "text": [
      "0.4031914893617021\n",
      "[[ 97  85  48  36]\n",
      " [ 38 104  76   7]\n",
      " [ 31  63  85  25]\n",
      " [ 27  71  54  93]]\n"
     ]
    }
   ],
   "source": [
    "model = SVC(C=10, gamma=0.1, kernel='rbf', decision_function_shape='ovr')\n",
    "model.fit(x_train,y_train)\n",
    "y_pred = model.predict(x_test)\n",
    "print(metrics.accuracy_score(y_test,y_pred))\n",
    "print(metrics.confusion_matrix(y_test,y_pred))"
   ]
  },
  {
   "cell_type": "code",
   "execution_count": null,
   "id": "c390e784",
   "metadata": {},
   "outputs": [],
   "source": []
  },
  {
   "cell_type": "code",
   "execution_count": 55,
   "id": "0a6a6c3a",
   "metadata": {},
   "outputs": [
    {
     "name": "stdout",
     "output_type": "stream",
     "text": [
      "             0          1         2         3\n",
      "0     0.050875  10.202274  0.179944  0.136042\n",
      "1     0.050875  10.202274  0.179944  0.136042\n",
      "2     0.051001  10.201296  0.180103  0.136291\n",
      "3     0.051222  10.202564  0.180603  0.136442\n",
      "4     0.047869  10.253037  0.178547  0.126492\n",
      "...        ...        ...       ...       ...\n",
      "6257  0.074956  10.474233  0.250396  0.110750\n",
      "6258  0.080151  10.485165  0.260713  0.110400\n",
      "6259  0.050862  10.252129  0.183107  0.131701\n",
      "6260  0.053483  10.245235  0.187403  0.135553\n",
      "6261  0.050614  10.257165  0.183076  0.130799\n",
      "\n",
      "[6262 rows x 4 columns]\n",
      "0       1.0\n",
      "1       1.0\n",
      "2       1.0\n",
      "3       1.0\n",
      "4       1.0\n",
      "       ... \n",
      "6257    4.0\n",
      "6258    4.0\n",
      "6259    4.0\n",
      "6260    4.0\n",
      "6261    4.0\n",
      "Name: 4, Length: 6262, dtype: float64\n"
     ]
    }
   ],
   "source": [
    "print(x)\n",
    "print(y)"
   ]
  },
  {
   "cell_type": "code",
   "execution_count": 56,
   "id": "a2ad982d",
   "metadata": {},
   "outputs": [
    {
     "name": "stdout",
     "output_type": "stream",
     "text": [
      "Feature: 0 F-score: 535.7820163510002\n",
      "Feature: 3 F-score: 454.53494056383335\n",
      "Feature: 2 F-score: 444.55347177653437\n",
      "Feature: 1 F-score: 235.2370402449632\n"
     ]
    },
    {
     "ename": "IndexError",
     "evalue": "index 4 is out of bounds for axis 0 with size 4",
     "output_type": "error",
     "traceback": [
      "\u001b[1;31m---------------------------------------------------------------------------\u001b[0m",
      "\u001b[1;31mIndexError\u001b[0m                                Traceback (most recent call last)",
      "\u001b[1;32m~\\AppData\\Local\\Temp\\ipykernel_1892\\512788956.py\u001b[0m in \u001b[0;36m<module>\u001b[1;34m\u001b[0m\n\u001b[0;32m      9\u001b[0m \u001b[0mindex_to_be_considered\u001b[0m \u001b[1;33m=\u001b[0m \u001b[1;33m[\u001b[0m\u001b[1;33m]\u001b[0m\u001b[1;33m\u001b[0m\u001b[1;33m\u001b[0m\u001b[0m\n\u001b[0;32m     10\u001b[0m \u001b[1;32mfor\u001b[0m \u001b[0mi\u001b[0m \u001b[1;32min\u001b[0m \u001b[0mrange\u001b[0m\u001b[1;33m(\u001b[0m\u001b[1;36m100\u001b[0m\u001b[1;33m)\u001b[0m\u001b[1;33m:\u001b[0m\u001b[1;33m\u001b[0m\u001b[1;33m\u001b[0m\u001b[0m\n\u001b[1;32m---> 11\u001b[1;33m     \u001b[0mprint\u001b[0m\u001b[1;33m(\u001b[0m\u001b[1;34m\"Feature:\"\u001b[0m\u001b[1;33m,\u001b[0m \u001b[0mindices\u001b[0m\u001b[1;33m[\u001b[0m\u001b[0mi\u001b[0m\u001b[1;33m]\u001b[0m\u001b[1;33m,\u001b[0m \u001b[1;34m\"F-score:\"\u001b[0m\u001b[1;33m,\u001b[0m \u001b[0mf_scores\u001b[0m\u001b[1;33m[\u001b[0m\u001b[0mindices\u001b[0m\u001b[1;33m[\u001b[0m\u001b[0mi\u001b[0m\u001b[1;33m]\u001b[0m\u001b[1;33m]\u001b[0m\u001b[1;33m)\u001b[0m\u001b[1;33m\u001b[0m\u001b[1;33m\u001b[0m\u001b[0m\n\u001b[0m\u001b[0;32m     12\u001b[0m     \u001b[0mindex_to_be_considered\u001b[0m\u001b[1;33m.\u001b[0m\u001b[0mappend\u001b[0m\u001b[1;33m(\u001b[0m\u001b[0mindices\u001b[0m\u001b[1;33m[\u001b[0m\u001b[0mi\u001b[0m\u001b[1;33m]\u001b[0m\u001b[1;33m+\u001b[0m\u001b[1;36m1\u001b[0m\u001b[1;33m)\u001b[0m\u001b[1;33m\u001b[0m\u001b[1;33m\u001b[0m\u001b[0m\n\u001b[0;32m     13\u001b[0m \u001b[0mprint\u001b[0m\u001b[1;33m(\u001b[0m\u001b[0mindex_to_be_considered\u001b[0m\u001b[1;33m)\u001b[0m\u001b[1;33m\u001b[0m\u001b[1;33m\u001b[0m\u001b[0m\n",
      "\u001b[1;31mIndexError\u001b[0m: index 4 is out of bounds for axis 0 with size 4"
     ]
    }
   ],
   "source": [
    "import numpy as np\n",
    "from sklearn.feature_selection import f_classif\n",
    "\n",
    "# Perform F-test on the feature matrix and target variable\n",
    "f_scores, p_values = f_classif(x, y)\n",
    "\n",
    "# Sort the features by their F-scores in descending order\n",
    "indices = np.argsort(f_scores)[::-1]\n",
    "index_to_be_considered = []\n",
    "for i in range(100):\n",
    "    print(\"Feature:\", indices[i], \"F-score:\", f_scores[indices[i]])\n",
    "    index_to_be_considered.append(indices[i]+1)\n",
    "print(index_to_be_considered)\n",
    "    \n",
    "\n"
   ]
  },
  {
   "cell_type": "markdown",
   "id": "7be6238f",
   "metadata": {},
   "source": [
    "considering that index start from 1"
   ]
  },
  {
   "cell_type": "code",
   "execution_count": null,
   "id": "0f3df34b",
   "metadata": {},
   "outputs": [],
   "source": [
    "print(min(indices))\n",
    "print(x)\n",
    "print(y)"
   ]
  },
  {
   "cell_type": "code",
   "execution_count": null,
   "id": "71b88335",
   "metadata": {},
   "outputs": [],
   "source": [
    "new_x = x[index_to_be_considered]\n",
    "print(new_x)"
   ]
  },
  {
   "cell_type": "code",
   "execution_count": null,
   "id": "65c1b64c",
   "metadata": {},
   "outputs": [],
   "source": [
    "print(f_scores)\n",
    "print(len(f_scores))\n",
    "print(p_values)\n",
    "print(len(p_values))\n",
    "print(sum(p_values))"
   ]
  },
  {
   "cell_type": "code",
   "execution_count": null,
   "id": "bf0e188f",
   "metadata": {},
   "outputs": [],
   "source": [
    "from sklearn.model_selection import train_test_split\n",
    "from sklearn import preprocessing\n",
    "x_train,x_test,y_train,y_test = train_test_split(new_x,y,random_state=42,test_size=0.15)\n",
    "print(y_train.value_counts())\n",
    "print(y_test.value_counts())"
   ]
  },
  {
   "cell_type": "code",
   "execution_count": null,
   "id": "eff012b4",
   "metadata": {},
   "outputs": [],
   "source": [
    "print(len(x_train),len(y_train))\n",
    "print(len(x_test),len(y_test))"
   ]
  },
  {
   "cell_type": "code",
   "execution_count": null,
   "id": "ac53c646",
   "metadata": {},
   "outputs": [],
   "source": [
    "da.dropna(how = \"any\").shape\n"
   ]
  },
  {
   "cell_type": "code",
   "execution_count": null,
   "id": "565b897f",
   "metadata": {},
   "outputs": [],
   "source": [
    "print(x_train)\n",
    "print(x_test)\n"
   ]
  },
  {
   "cell_type": "code",
   "execution_count": null,
   "id": "aaec9836",
   "metadata": {},
   "outputs": [],
   "source": [
    "acc_list = []\n",
    "cm_list = []\n",
    "for model in model_pipeline:\n",
    "    model.fit(x_train,y_train)\n",
    "    y_pred = model.predict(x_test)\n",
    "    acc_list.append(metrics.accuracy_score(y_test,y_pred))\n",
    "    cm_list.append(metrics.confusion_matrix(y_test,y_pred))"
   ]
  },
  {
   "cell_type": "code",
   "execution_count": null,
   "id": "e15c3cd3",
   "metadata": {},
   "outputs": [],
   "source": [
    "result_of_dataframe = pd.DataFrame({'Model':model_list,'ACCURACY':acc_list})"
   ]
  },
  {
   "cell_type": "code",
   "execution_count": null,
   "id": "06ca2301",
   "metadata": {},
   "outputs": [],
   "source": [
    "print(result_of_dataframe)"
   ]
  },
  {
   "cell_type": "code",
   "execution_count": null,
   "id": "086c2f9f",
   "metadata": {},
   "outputs": [],
   "source": [
    "import numpy as np\n",
    "from sklearn.model_selection import train_test_split\n",
    "from sklearn.svm import SVC\n",
    "from sklearn.metrics import accuracy_score\n",
    "from sklearn.preprocessing import StandardScaler\n",
    "\n",
    "\n",
    "clf = SVC()\n",
    "clf.fit(x_train, y_train)\n",
    "\n",
    "y_pred = clf.predict(x_test)\n",
    "\n",
    "accuracy = accuracy_score(y_test, y_pred)\n",
    "print(\"Accuracy:\", accuracy)\n"
   ]
  },
  {
   "cell_type": "code",
   "execution_count": null,
   "id": "b76106ef",
   "metadata": {},
   "outputs": [],
   "source": [
    "print(x)\n",
    "print(y)"
   ]
  },
  {
   "cell_type": "code",
   "execution_count": null,
   "id": "33a0b87b",
   "metadata": {},
   "outputs": [],
   "source": [
    "from sklearn.naive_bayes import GaussianNB\n",
    "from sklearn.model_selection import train_test_split, GridSearchCV\n",
    "from sklearn.feature_selection import SelectKBest, f_classif\n",
    "from sklearn.metrics import accuracy_score\n",
    "import pandas as pd\n",
    "\n",
    "\n",
    "\n",
    "# Separate features and target variable\n",
    "\n",
    "\n",
    "# Perform feature selection using F-test\n",
    "f_selector = SelectKBest(score_func=f_classif, k=1556)\n",
    "X_selected = f_selector.fit_transform(x, y)\n",
    "\n",
    "# Split the dataset into training and testing sets\n",
    "X_train, X_test, y_train, y_test = train_test_split(X_selected, y, test_size=0.2, random_state=42)\n",
    "\n",
    "# Train the Gaussian Naive Bayes classifier using grid search for hyperparameter tuning\n",
    "gnb = LogisticRegression()\n",
    "\n",
    "gnb.fit(X_train, y_train)\n",
    "\n",
    "# Make predictions on the testing set\n",
    "y_pred = gnb.predict(X_test)\n",
    "\n",
    "# Evaluate the performance of the classifier\n",
    "accuracy = accuracy_score(y_test, y_pred)\n",
    "print(\"Accuracy:\", accuracy)\n"
   ]
  },
  {
   "cell_type": "code",
   "execution_count": null,
   "id": "6a67ac6a",
   "metadata": {},
   "outputs": [],
   "source": [
    "import pandas as pd\n",
    "import numpy as np\n",
    "from scipy.stats import entropy\n",
    "\n",
    "# Create a sample DataFrame with some data\n",
    "df = pd.DataFrame(np.random.randint(0, 2, size=(3, 5)), columns=['A', 'B', 'C', 'D', 'E'])\n",
    "print(df)\n",
    "\n"
   ]
  },
  {
   "cell_type": "code",
   "execution_count": null,
   "id": "baf41d9e",
   "metadata": {},
   "outputs": [],
   "source": [
    "# Define a function to compute entropy for a row\n",
    "def row_entropy(row):\n",
    "    return entropy(row, base=2)\n",
    "\n",
    "# Compute entropy for each row using apply() method\n",
    "entropy_values = df.apply(row_entropy, axis=1)\n",
    "\n",
    "# Add computed entropy values as a new column\n",
    "df['Entropy'] = entropy_values\n",
    "\n",
    "# Print the resulting DataFrame\n",
    "print(df.head())\n",
    "print(df['Entropy'] )"
   ]
  },
  {
   "cell_type": "code",
   "execution_count": null,
   "id": "6507bb76",
   "metadata": {},
   "outputs": [],
   "source": [
    "import pandas as pd\n",
    "import numpy as np\n",
    "from scipy.stats import f_oneway\n",
    "\n",
    "# Create a sample DataFrame with 4 classes and a single column 'Feature'\n",
    "df = pd.DataFrame({\n",
    "    'Class': ['A', 'A', 'B', 'B', 'C', 'C', 'D', 'D'],\n",
    "    'Feature': [10, 12, 8, 9, 7, 10, 13, 15]\n",
    "})\n",
    "\n",
    "# Compute F-statistic and p-value using f_oneway() function\n",
    "f_statistic, p_value = f_oneway(\n",
    "    df[df['Class'] == 'A']['Feature'],\n",
    "    df[df['Class'] == 'B']['Feature'],\n",
    "    df[df['Class'] == 'C']['Feature'],\n",
    "    df[df['Class'] == 'D']['Feature']\n",
    ")\n",
    "\n",
    "# Print the F-statistic and p-value\n",
    "print('F-statistic:', f_statistic)\n",
    "print('p-value:', p_value)\n"
   ]
  },
  {
   "cell_type": "code",
   "execution_count": null,
   "id": "e5b29fc3",
   "metadata": {},
   "outputs": [],
   "source": [
    "df[df['Class'] == 'D']['Feature']"
   ]
  },
  {
   "cell_type": "code",
   "execution_count": null,
   "id": "42319033",
   "metadata": {},
   "outputs": [],
   "source": [
    "import numpy as np\n",
    "from math import inf\n",
    "x = [10.202273952345902, 10.202273952345902, 10.201296395606237, 10.202563629846333, 10.253037259066957, 10.25785390007341, 10.282541998305367, 10.259100967949289, 10.264943145037327, 10.300780018597612, 10.343634815248073, 10.351645411163194, 10.354200987803196, 10.349183971284612, 10.355244004850606, 10.357573311401657, 10.236262026810005, 10.240899997521796, 10.243910772386736, 10.277155972535807, 10.27668624369997, 10.280371276509053, 10.272910809088808, 10.29817600679907, 10.298217693483004, 10.287940107776375, 10.292372818963772, 10.294257037505709, 10.326643691051899, 10.329198488600253, 10.323352908802255, 10.294660598406592, 10.29628436464051, 10.281916477964783, 10.376618348045815, 10.281970725877928, 10.280881447845692, 10.159095134080935, 10.171984610519935, 10.17962286295941, 10.237129575837027, 10.241143484297616, 10.245930204201066, 10.251767346201483, 10.262817003784052, 10.266464531895544, 10.32635936074482, 10.32843358915748, 10.342166219198516, 10.251059248792323, 10.253509287047386, 10.255788965617933, 10.217451485801375, 10.21667729638596, 10.219629712415742, 10.236874987723969, 10.240787827329873, 10.240651282323684, 10.215371705584628, 10.2164975670922, 10.22318307019617, 10.225737921417043, 10.228288576538132, 10.230960476833255, 10.241501955764457, 10.243844523260126, 10.24679989951635, 10.254198211129939, 10.261786186333548, 10.263524005444067, 10.37713158902533, 10.377264412677551, 10.378461183827742, 10.28315513619737, 10.286841024306437, 10.290383386689266, 10.268788381480746, 10.269028945587928, 10.27116850203407, 10.265781560203177, 10.268223326505998, 10.269374789160471, 10.265159738841149, 10.26825651179029, 10.26804485921179, 10.271211947008423, 10.32526205117785, 10.327273102637907, 10.307722846895839, 10.308339069604049, 10.308112231577221, 10.306681745102697, 10.309389564518781, 10.312846144900806, 10.183157808821663, 10.139901358477339, 10.141671610132091, 10.399008565543097, 10.400064430294309, 10.402469052098052, 10.298604247064487, 10.300194521518842, 10.304995373506223, 10.141519670838258, 10.140071852541935, 10.141516931494468, 10.18803761437008, 10.196950714566235, 10.202104396526558, 10.118694912096053, 10.125036985437937, 10.13704144546428, 10.264065111264186, 10.27069899572698, 10.272259046719258, 10.386901473821741, 10.36492892573524, 10.366351751296882, 10.367613242343099, 10.38679947327816, 10.387127701639143, 10.387791094852407, 10.413228687685868, 10.414844037073596, 10.414034293392836, 10.379495459286742, 10.381422496962827, 10.380986954095624, 10.379440417684824, 10.380636274053604, 10.381112903051946, 10.377891658551118, 10.377842877827357, 10.377866942344655, 10.386104987815141, 10.386769798323, 10.387719724016057, 10.354427012559317, 10.356121774785354, 10.355112038736216, 10.412463308857602, 10.413860281015122, 10.413999409314508, 10.36913736913988, 10.295614561186595, 10.30083012350761, 10.307159227914795, 10.384193300149182, 10.386104572512345, 10.38638688411793, 10.319487615491175, 10.318699134951455, 10.320800721021163, 10.362171986275383, 10.363060890068562, 10.363190447892581, 10.273663607043586, 10.277613650097837, 10.279351539953888, 10.374691009543168, 10.379250584892837, 10.381263974276989, 10.373750056882745, 10.377675493768612, 10.300370477159607, 10.302329230103798, 10.302845803766647, 10.380625520733114, 10.383929267218196, 10.383909060867527, 10.342034575150054, 10.310389272450582, 10.315008623030252, 10.39870047491383, 10.398592434051317, 10.40008575389337, 10.431447749393692, 10.432976070369834, 10.348294660704955, 10.357313955203557, 10.357382249035275, 10.358732199129614, 10.31573820641076, 10.316820360390146, 10.31499326911169, 10.3272410019142, 10.329386201292337, 10.322120029404749, 10.347567148715385, 10.34952177472058, 10.349640267412983, 10.38065098195059, 10.382079542769509, 10.384142221905547, 10.37915970389742, 10.380650617783706, 10.382338838661783, 10.425550401202152, 10.422455004116996, 10.423707690482354, 10.390312852995311, 10.392801615228883, 10.393545821515938, 10.299075105294534, 10.311492475454806, 10.314088960076877, 10.32226243396468, 10.274957464611061, 10.277821496756928, 10.281138487188066, 10.225602947986701, 10.227924210038669, 10.23088270836566, 10.285558580514296, 10.284797276323358, 10.286736637989979, 10.444023289184996, 10.444915042686283, 10.445893613146271, 10.443888223715764, 10.459053956613381, 10.461331138441194, 10.438969413603244, 10.442234931036033, 10.44926864690788, 10.46936830852521, 10.472243489116316, 10.475466899104562, 10.470914224301833, 10.473718809788704, 10.473958361747679, 10.460970005738, 10.46085811349882, 10.462398993128778, 10.280496690988132, 10.265763432444752, 10.265671509110506, 10.361897329143607, 10.351041743738826, 10.350044097415125, 10.256333076493876, 10.293410444485255, 10.270879087297944, 10.27417920332264, 10.265017365198764, 10.264881195708245, 10.255768115903868, 10.255222091364082, 10.261968449610603, 10.31831033626155, 10.320585355041837, 10.321839256525898, 10.245316224592703, 10.236242973201369, 10.245984044624723, 10.251943294189125, 10.28928421244982, 10.323149943265012, 10.338975731663547, 10.349703926163203, 10.351416021309907, 10.352238860450546, 10.350025330133924, 10.352915658446864, 10.35406612012256, 10.355391597372245, 10.357808090788572, 10.358715629793513, 10.274597544586234, 10.286750268579171, 10.288723088430793, 10.27503154645067, 10.293439241164219, 10.29366747673552, 10.298083353126133, 10.301423035593563, 10.330432039184364, 10.327119379406797, 10.342682815874035, 10.344241510600618, 10.36190757221022, 10.362698411758098, 10.370982224289389, 10.381413436820653, 10.387939096743564, 10.391432288272346, 10.367192576449426, 10.373680775641864, 10.380202495708707, 10.322525875937218, 10.435478785038702, 10.435786282768351, 10.439299189944762, 10.48100725080707, 10.488639556241376, 10.493900049999283, 10.460832565670756, 10.464366364063402, 10.464362024539197, 10.479849782594375, 10.480616874131924, 10.481090212212745, 10.45720228181578, 10.459493319626787, 10.459449776174372, 10.480312220788067, 10.480124129857938, 10.479742628846498, 10.458311565445312, 10.459120064582843, 10.155259212771716, 10.244237252722778, 10.243475112683354, 10.246642198424851, 10.246497328571106, 10.23049126952994, 10.22867678006883, 10.344051281304012, 10.345445522948722, 10.345734977597434, 10.299842276797344, 10.302801450402761, 10.302569087706441, 10.189860434534184, 10.198647922714096, 10.209961342688064, 10.327042382178929, 10.328085420501203, 10.329974115871677, 10.267544285300458, 10.27884091573532, 10.28018585533984, 10.24868497746063, 10.250421041221463, 10.249550676445446, 10.253170315102867, 10.254525756738165, 10.265752542449423, 10.326363460193008, 10.348942248067447, 10.349664174521914, 10.357118534031747, 10.368816417928137, 10.37640943486265, 10.378928818815218, 10.380284583017797, 10.38026772370386, 10.207801715778706, 10.206860633908775, 10.205347642265005, 10.20438248906046, 10.203581002969456, 10.20303170038888, 10.241461090423499, 10.241903128563353, 10.2563072424044, 10.31267307734983, 10.326411364741825, 10.34616922947131, 10.263977631013752, 10.270435189473156, 10.2355612703399, 10.243009432316773, 10.246973687995808, 10.271518739864263, 10.279658213847528, 10.28354708307394, 10.246397095569993, 10.248853825132583, 10.248639441042945, 10.271821964412762, 10.273143656141402, 10.27525645074683, 10.276337878509707, 10.310452076820278, 10.310679956894218, 10.312409349052349, 10.273262082027792, 10.276093014075535, 10.27806570688397, 10.316882040121337, 10.317727187175338, 10.319134724914504, 10.27868416733758, 10.152752653141395, 10.155134167921368, 10.155583833790448, 10.272753452244245, 10.27493172246492, 10.273934932092077, 10.289380141265914, 10.292863141141952, 10.298488577313675, 10.308342756697037, 10.313686172513355, 10.314540868518115, 10.328720627851178, 10.330316262354733, 10.333150767896996, 10.346484129703528, 10.348096153617922, 10.349083748118955, 10.349708524841079, 10.351697803714023, 10.351872648407676, 10.316446815937615, 10.316885199878703, 10.319351108679246, 10.341702711505471, 10.344746901602313, 10.347984825672775, 10.347780310536402, 10.349794487469234, 10.350010103846918, 10.332241190397296, 10.33359800079174, 10.33351447919678, 10.15293760782848, 10.157978288725827, 10.162391572218802, 10.362032659884832, 10.364800394911924, 10.365072494701375, 10.335636821075168, 10.336325482016134, 10.33717595602386, 10.333506714471488, 10.33655615746754, 10.335664994663997, 10.345306416891434, 10.346858125481313, 10.350751072049185, 10.355431515473333, 10.357221144763542, 10.357131582099449, 10.360225608735107, 10.36178477945662, 10.362500509704587, 10.20400665548859, 10.208249873571315, 10.209455725713857, 10.173563564899345, 10.17616972313233, 10.181912732658425, 10.285049151715004, 10.285096563979302, 10.286998284250453, 10.238898776016558, 10.242444173476995, 10.246145956464057, 10.262117852376312, 10.264050037990664, 10.264816023749649, 10.30900258959679, 10.311964469633619, 10.315469066723793, 10.27067246947403, 10.272367956980139, 10.275147722996914, 10.327263834485397, 10.329649644142231, 10.329878082018475, 10.263585302577747, 10.26838911881954, 10.274801820084225, 10.254903494881393, 10.261491651699325, 10.264548563110559, 10.35763823199701, 10.357789819566877, 10.365476179230738, 10.314530308878647, 10.328148908954304, 10.326260325890733, 10.310772143358895, 10.316465510766823, 10.319650020054416, 10.324701982830245, 10.319280545191369, 10.32306361329771, 10.330677850171266, 10.333430785684387, 10.33335944137116, 10.34586986712993, 10.351088214589515, 10.35507844364079, 10.32403887866202, 10.32435437961741, 10.326875225704756, 10.33244354920241, 10.33399802614801, 10.278642468879323, 10.277214627997658, 10.276896776378818, 10.3703232301847, 10.372806382419244, 10.37829306489512, 10.40130752688253, 10.396695521466526, 10.40978227091923, 10.35998120290779, 10.358952722239696, 10.351817488466578, 10.360483490040565, 10.361635632785154, 10.359639742556759, 10.360148644949808, 10.36108109601215, 10.340870613623606, 10.364947720788166, 10.368657958235874, 10.3696943692129, 10.174362952724533, 10.17424224887645, 10.175962474447031, 10.21904664827938, 10.227787597652965, 10.228971841330717, 10.167286668097832, 10.167641366603437, 10.17414577319426, 10.315912120356685, 10.319773565674517, 10.31791689764364, 10.206719163509316, 10.210463471106534, 10.215570180420913, 10.217914126681286, 10.222439258515001, 10.229144756375264, 10.223057059289701, 10.227264883021741, 10.224757261485838, 10.026184967938324, 10.03964352553384, 10.044610669911357, 10.144415731943813, 10.167184519054645, 10.168129484962389, 10.275239410189462, 10.282168847440635, 10.301948968519804, 10.309473139199751, 10.330483577815663, 10.354446920242568, 10.38181305673866, 10.386645492104826, 10.270796909178653, 10.270247205631462, 10.270902163056709, 10.228844503095845, 10.251788119896059, 10.258738374558437, 10.271769358232817, 10.273310477418221, 10.274631386665401, 10.260668543134802, 10.261388289201829, 10.262649771741875, 10.269983607168234, 10.277050767151065, 10.356309798039605, 10.356890158810716, 10.359324436040342, 10.151052621624801, 10.159277158322434, 10.179605792045079, 10.36149679861803, 10.362275114827053, 10.364246928518268, 10.37679827835532, 10.379720114731354, 10.381483633591726, 10.384691036854429, 10.349131167023438, 10.349685661767397, 10.309411183434404, 10.30955197037686, 10.31037227550204, 10.377852990699528, 10.378734956709756, 10.380292865849524, 10.358418029223262, 10.360133462804944, 10.364418846028872, 10.174365482799859, 10.215796719804295, 10.228138386962428, 10.236004271249781, 10.245743856114371, 10.257818266640802, 10.333786912381012, 10.345119114574048, 10.351900169162263, 10.2053572680539, 10.200459503547734, 10.201475397868556, -inf, -inf, -inf, 9.954156752227446, 10.205008269084795, 10.206434338030629, 10.281197516193084, 10.288475304885562, 10.291275881404516, 10.186394174095389, 10.19021263095924, 10.191299322447456, 10.249163441631715, 10.249677583604651, 10.252666984043293, 10.182582255160751, 10.180909039110064, 10.180475885726812, 10.232885726059664, 10.269595642824264, 10.274682604964994, 10.267520240602156, 10.270589892047703, 10.274719657346205, 10.246056916796311, 10.248860522095212, 10.249915518801625, 10.277938301574789, 10.282299838659537, 10.28424259556644, 10.253131727670695, 10.255461961672937, 10.257854995291645, 10.260436530017921, 10.25936905354749, 10.261812352928617, 10.298117986521577, 10.30091592878841, 10.334772043685156, 10.337709072364483, 10.341510987806245, 10.167094976318273, 10.170319378801272, 10.171861492434022, 10.316554291245605, 10.319209799098749, 10.322396006598161, 10.315161240890308, 10.315862465310477, 10.317978760883296, 10.34096988554124, 10.34257347407497, 10.344536673309017, 10.322363230373941, 10.322869121831308, 10.324184845653804, 10.35465133623805, 10.36059592423294, 10.361805108734151, 10.35850930752977, 10.36248162222814, 10.366673023960551, 10.193980438258809, 10.196857530361246, 10.198349487728226, 10.162503198904513, 10.169286575151705, 10.17082347459155, 10.1962974180072, 10.197417264418112, 10.200369751069633, 10.295845493996923, 10.300913940541326, 10.302598331206926, 10.234360854150601, 10.235612856990734, 10.235816792244767, 10.231773794210866, 10.234941270110685, 10.23462073668106, 10.24617672887136, 10.23840161810372, 10.235162585429643, 10.179168226926047, 10.1797949187547, 10.184809658967078, 10.356995867428516, 10.357691459079822, 10.360648190233867, 10.34689919465841, 10.347926809956718, 10.349266595051589, 10.282571414152802, 10.28393074191014, 10.284909947101685, 10.287264794424582, 10.29101420191257, 10.292477346029623, 10.282306132685614, 10.282950562686914, 10.284945968092268, 10.334754670530902, 10.335824472662294, 10.337957437261093, 10.302027563995345, 10.303702755092509, 10.309448333187884, 10.336530553847757, 10.336121719598484, 10.33798040957993, 10.355758515740753, 10.356226096925738, 10.357871216652805, 10.290383181047435, 10.29244167784745, 10.294506426455333, 10.198476663013214, 10.210961789029655, 10.263458864000631, 10.266330136719795, 10.31253557460318, 10.315400019946376, 10.316707568514387, 10.41567276986036, 10.416878767351323, 10.41713530471974, 10.348773403019639, 10.350518359561853, 10.362753227259642, 10.319496622587872, 10.32243791579262, 10.323693339361622, 10.385749062944287, 10.386992209755165, 10.388020082857647, 10.379670199953269, 10.380529498992274, 10.382015631991878, 10.33923989058938, 10.341121534777596, 10.335375944435903, 10.265408896834535, 10.26895036344818, 10.2715727813123, 10.294965132812164, 10.326373363638762, 10.345848579449259, 10.341369140930224, 10.278717769237982, 10.233994690840724, 10.20431133261371, 10.205926693757648, 10.21637692974388, 10.222566013066466, 10.225445946069524, 10.229119412212567, 10.252144408285735, 10.254904040293226, 10.258056501623022, 10.158694284429789, 10.114605766953156, 10.082391374848637, 10.130145293663908, 10.129810267871692, 10.13239874881458, 10.094367995123198, 10.095653392915363, 10.096996537291545, 10.246411593891661, 10.249677208518758, 10.24999604883241, 10.211045411431662, 10.214732567686866, 10.217036834573996, 10.07080665571261, 10.07389884441621, 10.079475135328488, 10.22742623341791, 10.230535390847287, 10.23190203643984, 10.197031921487433, 10.199980344241752, 10.20327724293112, 10.376473621414696, 10.377962598218632, 10.378157487838394, 10.317320057047034, 10.316975616171012, 10.320288668349717, 10.232882056612405, 10.234126681536548, 10.237140027940011, 10.086178409811405, 10.085887187304305, 10.088149279087222, 10.22211327525543, 10.225307427856668, 10.228032217319518, 10.250965977113085, 10.25293053205414, 10.254737448282295, 10.295517301967607, 10.296462174544002, 10.296689880204351, 10.313715953100958, 10.31371650667743, 10.315354938103468, 10.336216302110278, 10.337100361564994, 10.338044567793064, 10.318669129626896, 10.321568743593884, 10.323336759260869, 10.123929269163856, 10.125659427024775, 10.126442310262938, 10.15050747446034, 10.155895717851934, 10.152114474401849, -inf, 9.98002607886352, 9.982821524309063, 10.069733267230893, 10.074221256589, 10.076308722390799, 10.127875822773829, 10.12697788451742, 10.128653116555842, 10.118986270317444, 10.122335757982516, 10.121639110154934, 9.99420905999216, 9.998375674003983, 10.019846970253015, 10.321599191646682, 10.325012996611994, 10.326253021120273, 10.32511313096846, 10.332652585902652, 10.334738757193062, 10.336559348112749, 10.358342196622077, 10.364362379513564, 10.366686794717888, 10.384332318770525, 10.38562598064077, 10.387709477589222, 10.391625346762885, 10.396809812401111, 10.397844348842533, 10.390165876089151, 10.39107319338119, 10.391755676048982, 10.413775253134217, 10.414831949519192, 10.415396398484974, 10.42749519200996, 10.427684308086718, 10.428161129292647, 10.450906044620421, 10.45075425835247, 10.45152440725872, 10.387430959453297, 10.387657691682803, 10.388180297379577, 10.39647239244859, 10.398425365872557, 10.39867166108167, 10.437424999737447, 10.437745873353727, 10.43801649548343, 10.394346626046351, 10.393713803594107, 10.395214704248923, 10.45891331148001, 10.459280243161448, 10.461009794811742, 10.374462898911975, 10.375960211247593, 10.3766691863304, 10.414172966260775, 10.414855808698464, 10.415032263651774, 10.417802545728565, 10.418755909565114, 10.418933421502441, 10.41765644810264, 10.419034886095114, 10.418894453733355, 10.324721675321898, 10.325886367314107, 10.326798541476725, 10.407240234545196, 10.408568150484632, 10.409313917696316, 10.316306270273216, 10.31831643424463, 10.318994386476952, 10.319548822055028, 10.323950482455226, 10.372024850360743, 10.37334735143883, 10.338493296136408, 10.33900447160137, 10.339583798936818, 10.350094337016104, 10.351949896113672, 10.352552225790431, 10.36863215177321, 10.37050268633874, 10.371827681819777, 10.34301571482482, 10.342967178599693, 10.342908011489504, 10.374739503368605, 10.374747011577101, 10.3760341996698, 10.27533298294053, 10.278054487802738, 10.279377730690912, 10.281602367013013, 10.281187034793565, 10.285952489620259, 10.295229741939202, 10.299473649457763, 10.302716816677952, 10.319181623830467, 10.320061034400036, 10.321542339136066, 10.387089340424673, 10.3883207706368, 10.389297650851313, 10.36779797950561, 10.36861852326759, 10.368429990746897, 10.158710671221968, 10.159815889045062, 10.162826820060296, 10.345203321302902, 10.345439449122626, 10.346224876154581, 10.211928566474818, 10.218202079319914, 10.2198359332591, 10.128594141499772, 10.135025659748674, 10.14026493422011, 10.254014292448657, 10.258157506304574, 10.261039089022454, 10.284348498202498, 10.287200765438385, 10.291355292106491, 10.242262448742414, 10.245919180665432, 10.42729370776675, 10.436786732930935, 10.437057622823136, 10.319087122029307, 10.322116052057833, 10.325786647470863, 10.386980182195135, 10.390391534366143, 10.393659089590624, 10.364660260734668, 10.365341487688687, 10.37080979345901, 10.281598200904709, 10.288305718056225, 10.289889978311493, 10.243822361414088, 10.244725250394088, 10.249115133326464, 10.256843655722657, 10.257498184461047, 10.259954350855649, 10.257732537539848, 10.260241171899581, 10.260445472651309, 10.26716043996979, 10.27133012283688, 10.272330901994923, 10.223756924391331, 10.226686644292261, 10.230348536790862, 10.164112256092285, 10.35097507148167, 10.16512779749567, 10.16479979784178, 10.173327943152868, 10.342233929791458, 10.342910087189994, 10.344956606100922, 10.34540773730911, 10.353567241309594, 10.358274050185122, 10.36249541219614, 10.371379805309333, 10.378600798006211, 10.381484708080869, 10.382747351162179, 10.387025574271606, 10.352023090561604, 10.357821592946287, 10.35888274735206, 10.361519812889897, 10.408167045758601, 10.410489532907603, 10.412049564775279, 10.412486963601175, 10.382997242602071, 10.385744067891828, 10.383867607432276, 10.383470093077838, 10.391008552259525, 10.393871168666601, 10.395445580794021, 10.398396775515415, 10.41740582382021, 10.419091341554019, 10.42102249003986, 10.421193467197686, 10.417401335340191, 10.41837500024424, 10.418949794658038, 10.418829363197476, 10.396970193218676, 10.401100680442571, 10.40248371305879, 10.406537332829263, 10.101929724000346, 10.113726183642093, 10.118814530226858, 10.120061662394752, 10.440841790192005, 10.44212170404182, 10.442162345902025, 10.445817336758132, 10.446530754929201, 10.448406319377574, 10.451974096016606, 10.451323088930447, 10.45392541069387, 10.440562607117878, 10.44376651417473, 10.450873584977511, 10.444668793904974, 10.46389612982592, 10.46546775493839, 10.46559926813986, 10.467248209991766, 10.46199229757336, 10.464995158292437, 10.471204990305882, 10.46755088914238, 10.444405589454234, 10.44297452871132, 10.442610928391442, 10.443112038821726, 10.097463204568605, 10.331797495708702, 10.330791985306933, 10.330604177590622, 10.30815604854973, 10.314078289925607, 10.325657590383392, 10.326927534244792, 10.331676350653204, 10.347005672144236, 10.349465698793546, 10.359439326425473, 10.359684388755962, 10.233783748494304, 10.237181617084913, 10.248060954595418, 10.255536576423909, 10.237490380561551, 10.25686828915453, 10.26641273689037, 10.273177193949472, 10.342729981278682, 10.342786467987477, 10.348244687397317, 10.349714255951664, 10.286942586786013, 10.304258256176103, 10.315846705208857, 10.313675079882072, 10.290992550031456, 10.289095436059364, 10.29012023124984, 10.291929027026026, 10.350521538958088, 10.352080174018502, 10.355320584031988, 10.356910885110366, 10.318866233503455, 10.320198958586992, 10.323856049034516, 10.327816835366663, 10.381444141176816, 10.387992967065173, 10.389147982085861, 10.39171620310548, 10.355791323394103, 10.358969995043466, 10.357818597874171, 10.343509898539759, 10.325792039454882, 10.328551550322688, 10.329008034420275, 10.327287197600336, 10.328219053930122, 10.387911723670832, 10.388926093154017, 10.389919271401762, 10.390330044710572, 10.391074016652187, 10.393417420357327, 10.394226720840463, 10.39450382213492, 10.368838338133319, 10.373075237123565, 10.37483418946342, 10.375531344810668, 10.37605188095499, 10.372573132250704, 10.37440805455359, 10.374710192897108, 10.377514663376216, 10.392055607744457, 10.394537850039018, 10.39492826046553, 10.395954769312112, 10.245574466417136, 10.239486365591766, 10.243794498722396, 10.245624634790023, 10.247528234345992, 10.24990549072179, 10.261619006146866, 10.268636913687299, 10.301513260996236, 10.300302363842675, 10.300560351042131, 10.286167072141682, 10.40732218009226, 10.407950796074537, 10.409294267057968, 10.41094239321607, 10.24289287758755, 10.248916986930931, 10.24919023223802, 10.251385362397864, 10.27448998620041, 10.277960335377202, 10.280327230544845, 10.280763445648146, 10.292961472164892, 10.293455501830984, 10.299101021569697, 10.300166853952762, 10.334442525369811, 10.34357539671766, 10.348271917881277, 10.349745781060868, 10.166980109481836, 10.161177442449386, 10.164405698219678, 10.388216025818698, 10.390906907022972, 10.396173446551291, 10.397530300734523, 10.378419796507275, 10.362258756583639, 10.363114814467309, 10.369077901064841, 10.377351029519934, 10.377945877828568, 10.385993938089506, 10.385304851491155, 10.407074082954411, 10.399372514883654, 10.411881952770443, 10.40112340752637, 10.406182101226086, 10.409828242037946, 10.425514829035388, 10.424749815195565, 10.405154138196057, 10.433068845655407, 10.429314903734692, 10.442981713510838, 10.447972700842797, 10.434700112887883, 10.443240067248878, 10.415904242184833, 10.400308446744926, 10.396681644043321, 10.396661655492105, 10.392571845693777, 10.393260812136292, 10.394828690012451, 10.406143314361312, 10.405061415924866, 10.405751838757622, 10.4059490678545, 10.406375712164827, 10.252850140196287, 10.25507736740756, 10.258521053954684, 10.25901010853866, 10.385439002805663, 10.387008388154012, 10.386684778002415, 10.386861758476854, 10.3869794489266, 10.388410256676252, 10.388189886772347, 10.388117588874453, 10.39383253934229, 10.394317783148118, 10.395724173356957, 10.396667953214193, 10.418190326158705, 10.418340011050574, 10.419171154558262, 10.419779265541479, 10.386417248907167, 10.386681650515149, 10.387614067843641, 10.387966232735039, 10.40227734040902, 10.40296226680249, 10.403463709742496, 10.403620001880988, 10.238737152586225, 10.260870439901323, 10.241799134663157, 10.263898071916326, 10.245483431384248, 10.251189973426897, 10.253816508182883, 10.392360423644432, 10.394238283829514, 10.387028894257472, 10.388474209604167, 10.29656156380326, 10.295731394878505, 10.298208074816761, 10.294782195209047, 10.297074571940083, 10.291961269525718, 10.299883023533893, 10.293499578931948, 10.305928322218753, 10.297152376629398, 10.312857415457076, 10.298179998358544, 10.314724118755114, 10.404719274751693, 10.410274360583184, 10.412122575135465, 10.414918350773307, 10.337714362361156, 10.342024317444867, 10.351025003424073, 10.340006851399453, 10.34545549078246, 10.336217172283586, 10.347478838100146, 10.348953864875545, 10.218613762370197, 10.218773640674323, 10.233869876734348, 10.237405014532955, 10.347183509658914, 10.347200508654353, 10.39947231574511, 10.400382159546428, 10.406785689769746, 10.40604495271659, 10.368051240943245, 10.370024028620172, 10.371562483390742, 10.371918479160318, 10.353423909024514, 10.353496685797685, 10.355201613606958, 10.35638806400245, 10.36047448370653, 10.360946741178566, 10.361581594926433, 10.362416089556026, 10.363378417961613, 10.363698179389116, 10.36492947917375, 10.36609395261288, 10.390342156940871, 10.40095776754747, 10.401514961828576, 10.40183511737711, 10.386556725452296, 10.387195079062609, 10.387851573861333, 10.38647698022237, 10.403310018016008, 10.404735849474665, 10.405437813494967, 10.406314075851144, 10.373846145816234, 10.375265333493898, 10.37534371952681, 10.376780917849795, 10.268692365634088, 10.272780240056214, 10.27547005127479, 10.27694271804658, 10.410392064388367, 10.410353477628393, 10.410383310188498, 10.411239351020122, 10.430412686355655, 10.430441303335163, 10.431133192145769, 10.4320851826259, 10.416397038846133, 10.417160035883478, 10.418146882995542, 10.418559248994843, 10.387919431399105, 10.388159197950902, 10.389062120282286, 10.389667024839941, 10.389684479126876, 10.390730817659513, 10.391520757824544, 10.391601901323003, 10.426316027531618, 10.427527456467555, 10.427528156584232, 10.42862874774098, 10.293730153417947, 10.310814278579592, 10.31472612911199, 10.331271291727615, 10.295162742362955, 10.293124534193714, 10.295793572903074, 10.298406178136085, 10.298866315469851, 10.335987852074744, 10.336655733382408, 10.337938882970079, 10.337842660525682, 10.323310926524142, 10.325280061150906, 10.326657908728263, 10.327982585481148, 10.356356734233035, 10.357548589784042, 10.358697107255482, 10.320825511339114, 10.32326458275447, 10.325435287174125, 10.32695368521147, 10.352852439400797, 10.3550115240618, 10.355475789379451, 10.361987196331825, 10.240277320525452, 10.231036763188381, 10.231711452710364, 10.22999712334612, 10.39325718668611, 10.40026838915864, 10.404240103708984, 10.407355625491917, 10.408627474551075, 10.386493148493665, 10.388156694298821, 10.388757787038799, 10.38960066281915, 10.367945478907531, 10.371338919619076, 10.37359762885941, 10.224584646295442, 10.374786031614073, 10.376716096165982, 10.379329982313367, 10.208685891666951, 10.190130488499822, 10.247952901697774, 10.24768151688671, 10.252623301342949, 10.253522240903354, 10.228546933616729, 10.23875086828531, 10.237681761692905, 10.241341374833565, 10.256113294941969, 10.262183048561463, 10.262399856912266, 10.264970146550128, 10.218230502902738, 10.220394766897511, 10.221469794857864, 10.220457503005974, 10.272100189457772, 10.279721297824167, 10.282753923954168, 10.285015157210417, 10.300091949979542, 10.302168598873653, 10.303472436086928, 10.304461884788532, 10.202169270620328, 10.203972889616315, 10.266573029407354, 10.269228514781423, 10.270649637120446, 10.270305740418765, 10.272688657708283, 10.274194712056145, 10.27472867451239, 10.275276259034458, 10.269068441392388, 10.278337622727896, 10.279982935491379, 10.282683300366035, 10.300227979502688, 10.300301402692298, 10.299773078788363, 10.302179710677406, 10.340067243622533, 10.341579149029872, 10.3431670127717, 10.346310808021594, 10.307943658321737, 10.307093601745052, 10.309649885404033, 10.309642453253714, 10.223116631382837, 10.214417958826138, 10.208333248695427, 10.217299819551092, 10.208995773912031, 10.23526679727395, 10.233313922065257, 10.254232309611377, 10.266303780978816, 10.278711992875065, 10.275376001121428, 10.282076472498716, 10.283904309479393, 10.285596332422749, 10.329117710510433, 10.329389951254742, 10.33098677866718, 10.333660808288137, 10.335828253715874, 10.338221825105283, 10.351484771816732, 10.352914225331224, 10.378347103285437, 10.381635828604582, 10.38161983421558, 10.382899173603947, 10.434001589855486, 10.434144861298556, 10.435606011544671, 10.43698591430704, 10.212468314845054, 10.21789473661073, 10.255167506044788, 10.263587589616204, 10.414450716635432, 10.418957062314515, 10.419143654801253, 10.419889761228442, 10.445258808665224, 10.447961272858292, 10.448613430809775, 10.450064618777908, 10.455575032292506, 10.456106669516878, 10.45626916983827, 10.457114271085551, 10.42595836637159, 10.426914354617704, 10.428540479212197, 10.429089816152214, 10.434385721946208, 10.434633534512972, 10.434883257563698, 10.436040961857108, 10.475938461246002, 10.476458335479082, 10.476389319936363, 10.477272084047373, 10.434537655894012, 10.435031107576187, 10.434886270077353, 10.435843077598213, 10.466604667696522, 10.467182905360332, 10.467589364101299, 10.468323837189965, 10.467224697570941, 10.467176975679278, 10.467990591104721, 10.4683790149106, 10.46827612365757, 10.468433339251815, 10.437182309385667, 10.438228861442346, 10.246590956575666, 10.295122728135825, 10.288928203864934, 10.29855697124092, 10.43258808360158, 10.433300801905714, 10.435293383617683, 10.435745145857886, 10.467809323899296, 10.468647338295984, 10.469396974795716, 10.469455804446186, 10.45789269640093, 10.458592997027276, 10.459333394799875, 10.460791969933808, 10.453582557347486, 10.454871895220203, 10.454998124324165, 10.457923378459588, 10.470352615933482, 10.474817380951405, 10.469812068681941, 10.466414526772677, 10.494857711154632, 10.495245163244173, 10.498104791379996, 10.49753298950175, 10.38351640862547, 10.391168477049709, 10.393147384370323, 10.392876599493379, 10.3019318203328, 10.304572312158218, 10.306835218535564, 10.30994943323665, 10.414710845458686, 10.415843898972225, 10.41913015857007, 10.419700631595209, 10.35591982125003, 10.364078097780721, 10.36460614882522, 10.369465982837426, 10.349727334161557, 10.361395519259435, 10.364965767976752, 10.36516742687138, 10.420890231451589, 10.421089261151401, 10.436207309370586, 10.437267342686509, 10.424902194492526, 10.425256057336423, 10.427049761565227, 10.443281058180801, 10.270539134396518, 10.273087167953536, 10.115407293655197, 10.12033441728071, 10.392858939783046, 10.39490094182395, 10.351383698616253, 10.348413438436612, 10.352055395760802, 10.358635545310966, 10.399066381401285, 10.398507790488065, 10.401609516993856, 10.471791581552287, 10.476470683921406, 10.478244720655418, 10.47835260714019, 10.478852523288642, 10.356563179162626, 10.357815696271508, 10.405011178595034, 10.409037100668444, 10.41090301330424, 10.412669125995523, 10.459939068696764, 10.46127893018766, 10.461687776642657, 10.462444755351411, 10.431037658020314, 10.432328832850231, 10.432846234905133, 10.433582144353952, 10.244026606976378, 10.246471953498013, 10.251973543214564, 10.252352720808704, 10.123444274667953, 10.126639680955227, 10.126713324072739, 10.13155068455156, 10.211491119873132, 10.265694527765337, 10.17881129980738, 10.183132889564778, 10.190566278404557, 10.20574847444188, 10.210232597270215, 10.212461574166285, 10.250627567075064, 10.251111367601967, 10.28915831803125, 10.289345013518334, 10.186981907444723, 10.194663531055538, 10.194772735084573, 10.199019436176373, 10.144360252064622, 10.151702044269726, 10.162121068267922, 10.163070990979138, 10.24713286964606, 10.250744989063666, 10.258699143743108, 10.262234291515766, 10.318828478857432, 10.31951037176972, 10.320116751443496, 10.32280469943644, 10.338055918240869, 10.348350635702133, 10.351559981604906, 10.403887728569218, 10.36607563438323, 10.379219789952009, 10.378757590066742, 10.40010060346615, 10.330739295298779, 10.373504813828406, 10.326428649132701, 10.333129843502128, 10.34322927817242, 10.344587749285882, 10.349276866383347, 10.351772249246645, 10.354149889203972, 10.355075035333208, 10.357887049546527, 10.358280960843935, 10.327230430436991, 10.324632059818233, 10.326939855227169, 10.324071684770015, 10.332355384520914, 10.332800278531368, 10.338178377039124, 10.341941387323118]"
   ]
  },
  {
   "cell_type": "code",
   "execution_count": null,
   "id": "b3d954b9",
   "metadata": {},
   "outputs": [],
   "source": [
    "for i in range(0,len(x)):\n",
    "    if x[i] ==-inf:\n",
    "        print(i)"
   ]
  },
  {
   "cell_type": "code",
   "execution_count": null,
   "id": "0ef90b35",
   "metadata": {},
   "outputs": [],
   "source": [
    "import pandas as pd\n",
    "from scipy import stats\n",
    "\n",
    "# Create a sample DataFrame with 4 classes and 1 feature\n",
    "df = pd.DataFrame({\n",
    "    'Feature': [1, 2, 3, 4, 2, 3, 1, 2, 3, 4, 1, 2, 3, 4],\n",
    "    'Class': ['A', 'A', 'A', 'B', 'B', 'B', 'C', 'C', 'C', 'D', 'D', 'D', 'D', 'D']\n",
    "})\n",
    "\n",
    "# Compute F-test for each class\n",
    "for c in df['Class'].unique():\n",
    "    f, p = stats.f_oneway(df[df['Class'] == c]['Feature'])\n",
    "    print(f'Class {c}: F-statistic = {f:.2f}, p-value = {p:.4f}')\n"
   ]
  },
  {
   "cell_type": "code",
   "execution_count": null,
   "id": "1ad87bb4",
   "metadata": {},
   "outputs": [],
   "source": [
    "import pandas as pd\n",
    "from scipy.stats import f_oneway\n",
    "\n",
    "# Create a sample DataFrame with 4 classes and 1 feature (6000 rows)\n",
    "df = pd.DataFrame({\n",
    "    'Feature': [1]*1500 + [2]*1500 + [3]*1500 + [4]*1500,\n",
    "    'Class': ['1']*1500 + ['2']*1500 + ['3']*1500 + ['4']*1500\n",
    "})\n",
    "\n",
    "# Compute F-test for the feature column\n",
    "f_stat, p_val = f_oneway(df[df['Class'] == '1']['Feature'],\n",
    "                          df[df['Class'] == '2']['Feature'],\n",
    "                          df[df['Class'] == '3']['Feature'],\n",
    "                          df[df['Class'] == '4']['Feature'])\n",
    "                          \n",
    "print(f'F-statistic = {f_stat:.2f}, p-value = {p_val:.4f}')\n"
   ]
  },
  {
   "cell_type": "code",
   "execution_count": null,
   "id": "06deaf2c",
   "metadata": {},
   "outputs": [],
   "source": [
    "print(df[df['Class'] == '2']['Feature'])"
   ]
  },
  {
   "cell_type": "code",
   "execution_count": null,
   "id": "e85d412e",
   "metadata": {},
   "outputs": [],
   "source": [
    "import matplotlib.pyplot as plt\n",
    "\n",
    "# Create a sample DataFrame with 4 classes and 1 feature\n",
    "df = pd.DataFrame({\n",
    "    'Feature': [1, 2, 3, 4, 2, 3, 1, 2, 3, 4, 1, 2, 3, 4],\n",
    "    'Class': ['A', 'A', 'A', 'B', 'B', 'B', 'C', 'C', 'C', 'D', 'D', 'D', 'D', 'D']\n",
    "})\n",
    "\n",
    "# Plot histograms for each class\n",
    "for c in df['Class'].unique():\n",
    "    plt.hist(df[df['Class'] == c]['Feature'], alpha=0.5, label=c)\n",
    "\n",
    "plt.legend()\n",
    "plt.show()\n"
   ]
  },
  {
   "cell_type": "code",
   "execution_count": null,
   "id": "5687deab",
   "metadata": {},
   "outputs": [],
   "source": [
    "import pandas as pd\n",
    "\n",
    "# Create a sample DataFrame with 3 columns and 4 rows\n",
    "df = pd.DataFrame({'A': [1, 2, 3, 4], 'B': [5, 6, 7, 8], 'C': [9, 10, 11, 12]})\n",
    "\n",
    "# Compute mean of each row\n",
    "row_means = df.mean(axis=1)\n",
    "\n",
    "# Add computed means as a new column using assign() method\n",
    "df = df.assign(RowMean=row_means)\n",
    "\n",
    "# Print the resulting DataFrame\n",
    "print(df.head())\n"
   ]
  },
  {
   "cell_type": "code",
   "execution_count": null,
   "id": "b176eaa7",
   "metadata": {},
   "outputs": [],
   "source": [
    "import pandas as pd\n",
    "\n",
    "# Create a sample DataFrame with 3 rows and 4 columns\n",
    "df = pd.DataFrame({\n",
    "    'A': [1, 2, 3],\n",
    "    'B': [4, 5, 6],\n",
    "    'C': [7, 8, 9],\n",
    "    \n",
    "})\n",
    "\n",
    "# Compute the mean and standard deviation for each row\n",
    "df['Mean'] = df.apply(lambda row: row.mean(), axis=1)\n",
    "df['Std'] = df.apply(lambda row: row.std(), axis=1)\n",
    "\n",
    "print(df)\n"
   ]
  },
  {
   "cell_type": "code",
   "execution_count": null,
   "id": "affd1a51",
   "metadata": {},
   "outputs": [],
   "source": []
  },
  {
   "cell_type": "code",
   "execution_count": null,
   "id": "3f5252fd",
   "metadata": {},
   "outputs": [],
   "source": []
  },
  {
   "cell_type": "code",
   "execution_count": null,
   "id": "c48507ce",
   "metadata": {},
   "outputs": [],
   "source": []
  }
 ],
 "metadata": {
  "kernelspec": {
   "display_name": "Python 3 (ipykernel)",
   "language": "python",
   "name": "python3"
  },
  "language_info": {
   "codemirror_mode": {
    "name": "ipython",
    "version": 3
   },
   "file_extension": ".py",
   "mimetype": "text/x-python",
   "name": "python",
   "nbconvert_exporter": "python",
   "pygments_lexer": "ipython3",
   "version": "3.9.13"
  }
 },
 "nbformat": 4,
 "nbformat_minor": 5
}
